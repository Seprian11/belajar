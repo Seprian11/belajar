{
 "cells": [
  {
   "cell_type": "markdown",
   "id": "8b01b9c5",
   "metadata": {},
   "source": [
    "# Hari 1"
   ]
  },
  {
   "cell_type": "markdown",
   "id": "9a483658",
   "metadata": {},
   "source": [
    "Refleksi = "
   ]
  },
  {
   "cell_type": "markdown",
   "id": "7a6e07c8",
   "metadata": {},
   "source": [
    "BELAJAR PRINT"
   ]
  },
  {
   "cell_type": "code",
   "execution_count": 1,
   "id": "016c985b",
   "metadata": {},
   "outputs": [
    {
     "name": "stdout",
     "output_type": "stream",
     "text": [
      "hai ganteng\n"
     ]
    }
   ],
   "source": [
    "#Belajar Print secara normal\n",
    "print(\"hai ganteng\")"
   ]
  },
  {
   "cell_type": "code",
   "execution_count": 2,
   "id": "9827d2ae",
   "metadata": {},
   "outputs": [
    {
     "name": "stdout",
     "output_type": "stream",
     "text": [
      "haiganteng\n"
     ]
    }
   ],
   "source": [
    "#Belajar print dengan tanda function +\n",
    "print(\"hai\" + \"ganteng\")"
   ]
  },
  {
   "cell_type": "code",
   "execution_count": 3,
   "id": "a28e5b48",
   "metadata": {},
   "outputs": [
    {
     "name": "stdout",
     "output_type": "stream",
     "text": [
      "hai ganteng\n"
     ]
    }
   ],
   "source": [
    "#Belajar kalo mau pake spasi\n",
    "print(\"hai\" + \" \" + \"ganteng\")"
   ]
  },
  {
   "cell_type": "code",
   "execution_count": 6,
   "id": "fec3f086",
   "metadata": {},
   "outputs": [
    {
     "name": "stdout",
     "output_type": "stream",
     "text": [
      "hai ganteng\n",
      "hai ganteng\n",
      "bau\n"
     ]
    }
   ],
   "source": [
    "#Belajar adanya new line dengan perintah \\n\n",
    "print(\"hai ganteng\\n\" + \"hai ganteng\\n\" + \"bau\")"
   ]
  },
  {
   "cell_type": "code",
   "execution_count": 8,
   "id": "b2d8feea",
   "metadata": {},
   "outputs": [
    {
     "name": "stdout",
     "output_type": "stream",
     "text": [
      "Mamah dah makan + Pisang\n"
     ]
    }
   ],
   "source": [
    "#Belajar bisa gunain tanda petik satu dan dua\n",
    "print('Mamah dah makan ' \"+\" ' Pisang')"
   ]
  },
  {
   "cell_type": "markdown",
   "id": "3878ae78",
   "metadata": {},
   "source": [
    "BELAJAR INPUT = Tidak hany print tapi harus masukin jawaban"
   ]
  },
  {
   "cell_type": "code",
   "execution_count": 9,
   "id": "0f3e4b90",
   "metadata": {},
   "outputs": [
    {
     "name": "stdout",
     "output_type": "stream",
     "text": [
      "hai gantenghai juga\n"
     ]
    },
    {
     "data": {
      "text/plain": [
       "'hai juga'"
      ]
     },
     "execution_count": 9,
     "metadata": {},
     "output_type": "execute_result"
    }
   ],
   "source": [
    "input(\"hai ganteng\")"
   ]
  },
  {
   "cell_type": "code",
   "execution_count": 11,
   "id": "2370de64",
   "metadata": {},
   "outputs": [
    {
     "name": "stdout",
     "output_type": "stream",
     "text": [
      "Siapa namamu?Bobi\n",
      "Hai Bobi\n"
     ]
    }
   ],
   "source": [
    "#Gabungan input dan print\n",
    "#saat nanti masukin input makan diawali dengan hai\n",
    "print(\"Hai\" + \" \" + input(\"Siapa namamu?\"))"
   ]
  },
  {
   "cell_type": "code",
   "execution_count": 12,
   "id": "5cac6e51",
   "metadata": {},
   "outputs": [
    {
     "name": "stdout",
     "output_type": "stream",
     "text": [
      "Siapa namamu ?Bobi\n",
      "Bobi ganteng\n"
     ]
    }
   ],
   "source": [
    "#Diakhiri dengan kata\n",
    "print(input(\"Siapa namamu ?\") + \" \" + \"ganteng\")"
   ]
  },
  {
   "cell_type": "code",
   "execution_count": 17,
   "id": "c0cde2d5",
   "metadata": {},
   "outputs": [
    {
     "name": "stdout",
     "output_type": "stream",
     "text": [
      "Bobi\n",
      "Sahlah\n"
     ]
    }
   ],
   "source": [
    "#Masukin input yang pengen \n",
    "name1 = input()\n",
    "name2 = input()"
   ]
  },
  {
   "cell_type": "code",
   "execution_count": 22,
   "id": "0a3010a0",
   "metadata": {},
   "outputs": [
    {
     "name": "stdout",
     "output_type": "stream",
     "text": [
      "what is your name?Jon\n",
      "Jon\n",
      "Lek\n",
      "Lek\n"
     ]
    }
   ],
   "source": [
    "#Print yang udah di definisiin\n",
    "name1 = input(\"what is your name?\")\n",
    "print(name1)\n",
    "\n",
    "name2 = input()\n",
    "print(name2)"
   ]
  },
  {
   "cell_type": "code",
   "execution_count": 3,
   "id": "5c2050bd",
   "metadata": {},
   "outputs": [
    {
     "name": "stdout",
     "output_type": "stream",
     "text": [
      "what's your name?Bobi\n",
      "4\n"
     ]
    }
   ],
   "source": [
    "#Masukan nama dan print jumlah yang dimasukan\n",
    "name = input(\"what's your name?\")\n",
    "name \n",
    "print(len(name))"
   ]
  },
  {
   "cell_type": "code",
   "execution_count": 4,
   "id": "93086381",
   "metadata": {},
   "outputs": [
    {
     "name": "stdout",
     "output_type": "stream",
     "text": [
      "what's your name ?Bobi\n",
      "4\n"
     ]
    }
   ],
   "source": [
    "#Hitung yang saat di masukin \n",
    "print(len(input(\"what's your name ?\")))"
   ]
  },
  {
   "cell_type": "markdown",
   "id": "6f7d38c5",
   "metadata": {},
   "source": [
    "BIKIN Kode"
   ]
  },
  {
   "cell_type": "code",
   "execution_count": 1,
   "id": "64ebeae7",
   "metadata": {},
   "outputs": [],
   "source": [
    "#name = n\n",
    "#len = l\n",
    "\n"
   ]
  },
  {
   "cell_type": "markdown",
   "id": "f5e3b3df",
   "metadata": {},
   "source": [
    "# HARI 2"
   ]
  },
  {
   "cell_type": "markdown",
   "id": "94541cbe",
   "metadata": {},
   "source": [
    "Belajar tipe data string, float, bolean, dan integer"
   ]
  },
  {
   "cell_type": "raw",
   "id": "f85fe0d3",
   "metadata": {},
   "source": [
    "string = buat kata kata = bisa angka\n",
    "float = buat desimal kayak persentase pake ini buat tipe data kontinu\n",
    "bolean = buat pilih kayak true or false\n",
    "kalo integer buat angka bilangan bulat"
   ]
  },
  {
   "cell_type": "code",
   "execution_count": 10,
   "id": "abea7bd2",
   "metadata": {},
   "outputs": [
    {
     "name": "stdout",
     "output_type": "stream",
     "text": [
      "Bibi\n",
      "-----------\n",
      "b\n"
     ]
    },
    {
     "data": {
      "text/plain": [
       "str"
      ]
     },
     "execution_count": 10,
     "metadata": {},
     "output_type": "execute_result"
    }
   ],
   "source": [
    "#String\n",
    "\n",
    "nama = \"Bibi\"\n",
    "print(nama)\n",
    "\n",
    "print(\"-----------\")\n",
    "\n",
    "#Cetak hurufnya doang ingat dari 0 \n",
    "print(nama[2])\n",
    "\n",
    "type(nama)"
   ]
  },
  {
   "cell_type": "code",
   "execution_count": 9,
   "id": "17a2a987",
   "metadata": {},
   "outputs": [
    {
     "name": "stdout",
     "output_type": "stream",
     "text": [
      "123456789\n"
     ]
    },
    {
     "data": {
      "text/plain": [
       "int"
      ]
     },
     "execution_count": 9,
     "metadata": {},
     "output_type": "execute_result"
    }
   ],
   "source": [
    "#Integer kalo garis bawah biar enakin mata\n",
    "\n",
    "angka = 123_456_789\n",
    "print(angka)\n",
    "type(angka)"
   ]
  },
  {
   "cell_type": "code",
   "execution_count": 8,
   "id": "87229158",
   "metadata": {},
   "outputs": [
    {
     "name": "stdout",
     "output_type": "stream",
     "text": [
      "453.234\n"
     ]
    },
    {
     "data": {
      "text/plain": [
       "float"
      ]
     },
     "execution_count": 8,
     "metadata": {},
     "output_type": "execute_result"
    }
   ],
   "source": [
    "#float \n",
    "desimal = 453.234\n",
    "print(desimal)\n",
    "type(desimal)"
   ]
  },
  {
   "cell_type": "code",
   "execution_count": 15,
   "id": "807934cc",
   "metadata": {},
   "outputs": [
    {
     "name": "stdout",
     "output_type": "stream",
     "text": [
      "False\n"
     ]
    },
    {
     "data": {
      "text/plain": [
       "bool"
      ]
     },
     "execution_count": 15,
     "metadata": {},
     "output_type": "execute_result"
    }
   ],
   "source": [
    "#Boolean \n",
    "#True \n",
    "#False\n",
    "\n",
    "a = 5\n",
    "\n",
    "b = 10<5\n",
    "print(b)\n",
    "type(b)"
   ]
  },
  {
   "cell_type": "code",
   "execution_count": 22,
   "id": "3d641e22",
   "metadata": {},
   "outputs": [
    {
     "name": "stdout",
     "output_type": "stream",
     "text": [
      "Siapa dah lu ? Najib\n",
      "------------\n",
      "Namanya ada 5 karakter\n"
     ]
    }
   ],
   "source": [
    "#Hitung dulu\n",
    "jumlah_nama = len(input(\"Siapa dah lu ? \"))\n",
    "\n",
    "#Ubah karena dia len itu tipe masih int jadi harus ubah jadi str\n",
    "jumlah_nama_str = str(jumlah_nama)\n",
    "\n",
    "print(\"------------\")\n",
    "#nah klo dah di ubah baru bisa dah\n",
    "print(\"Namanya ada \" + jumlah_nama_str + \" karakter\")\n"
   ]
  },
  {
   "cell_type": "code",
   "execution_count": 29,
   "id": "7ad21edd",
   "metadata": {},
   "outputs": [
    {
     "name": "stdout",
     "output_type": "stream",
     "text": [
      "jadinya  34.5\n",
      "----------\n"
     ]
    },
    {
     "data": {
      "text/plain": [
       "str"
      ]
     },
     "execution_count": 29,
     "metadata": {},
     "output_type": "execute_result"
    }
   ],
   "source": [
    "#UBah float jadi string\n",
    "\n",
    "#INI masih float\n",
    "a = 34.5\n",
    "\n",
    "#Ini di ubah jadi str\n",
    "a_str = str(a)\n",
    "\n",
    "#Print hasil perubahan\n",
    "print(\"jadinya \", a_str)\n",
    "print(\"----------\")\n",
    "type(a_str)"
   ]
  },
  {
   "cell_type": "raw",
   "id": "238cdb34",
   "metadata": {},
   "source": [
    "Urutan PEMDASLR  = URUTAN Operasi dari kiri ke kanan\n",
    "\n",
    "() = kurung\n",
    "** = eksponen\n",
    "* dan / = perkalian dan pembagian\n",
    "+ dan - = penjumlahan dan pengurangan"
   ]
  },
  {
   "cell_type": "raw",
   "id": "89882211",
   "metadata": {},
   "source": [
    "Operasi dalam Matematika\n",
    "\n",
    "Perkalian \n",
    "3 * 7\n",
    "\n",
    "pembagian \n",
    "2/2 \n",
    "\n",
    "penjumlahan \n",
    "3 + 5\n",
    "\n",
    "Pengurangan\n",
    "3-4\n",
    "\n",
    "pangkat (eksponen)\n",
    "\n",
    "2 ** 4"
   ]
  },
  {
   "cell_type": "code",
   "execution_count": 33,
   "id": "4f1e0700",
   "metadata": {},
   "outputs": [
    {
     "name": "stdout",
     "output_type": "stream",
     "text": [
      "16\n"
     ]
    }
   ],
   "source": [
    "print(10 - 3 * 3 + 15)"
   ]
  },
  {
   "cell_type": "code",
   "execution_count": 36,
   "id": "815764f3",
   "metadata": {},
   "outputs": [
    {
     "name": "stdout",
     "output_type": "stream",
     "text": [
      "75\n"
     ]
    }
   ],
   "source": [
    "#Dahulukan kurung baru perkalian tapi dalam ini phytonitu klo kurung harus tetep pake kali klo gk syntax eror\n",
    "print((10 + 5)*5)"
   ]
  },
  {
   "cell_type": "markdown",
   "id": "f271075b",
   "metadata": {},
   "source": [
    "Bulatkan bilangan dengan perintah round"
   ]
  },
  {
   "cell_type": "code",
   "execution_count": 42,
   "id": "57701362",
   "metadata": {},
   "outputs": [
    {
     "name": "stdout",
     "output_type": "stream",
     "text": [
      "3\n",
      "3\n"
     ]
    }
   ],
   "source": [
    "#Bulatkan\n",
    "print(round(10/3))\n",
    "\n",
    "print(int(10/3))"
   ]
  },
  {
   "cell_type": "code",
   "execution_count": 45,
   "id": "ef3fcc00",
   "metadata": {},
   "outputs": [
    {
     "name": "stdout",
     "output_type": "stream",
     "text": [
      "3\n"
     ]
    },
    {
     "data": {
      "text/plain": [
       "int"
      ]
     },
     "execution_count": 45,
     "metadata": {},
     "output_type": "execute_result"
    }
   ],
   "source": [
    "#TAPI APAKAH DIA Jadi Int\n",
    "\n",
    "angka_nih = round(10/3)\n",
    "print(angka_nih)\n",
    "type(angka_nih)\n"
   ]
  },
  {
   "cell_type": "code",
   "execution_count": 48,
   "id": "e95ba641",
   "metadata": {},
   "outputs": [
    {
     "name": "stdout",
     "output_type": "stream",
     "text": [
      "11\n",
      "10\n"
     ]
    }
   ],
   "source": [
    "#Kalo diatas 0.5 buletin ke atas\n",
    "print(round(10.6666666666))\n",
    "\n",
    "#Kalo di bawah 0.5 buletin ke bawah\n",
    "print(round(10.44444444444))"
   ]
  },
  {
   "cell_type": "code",
   "execution_count": 55,
   "id": "64f0ca1a",
   "metadata": {},
   "outputs": [
    {
     "name": "stdout",
     "output_type": "stream",
     "text": [
      "2\n",
      "None\n"
     ]
    }
   ],
   "source": [
    "#Bisa juga kayak gini buat bikin bulat tapi dia non type\n",
    "angka_coba = print (8 //3)\n",
    "print(angka_coba)"
   ]
  },
  {
   "cell_type": "code",
   "execution_count": 56,
   "id": "a537053c",
   "metadata": {},
   "outputs": [
    {
     "name": "stdout",
     "output_type": "stream",
     "text": [
      "<class 'int'>\n"
     ]
    }
   ],
   "source": [
    "print(type(8//3))"
   ]
  },
  {
   "cell_type": "code",
   "execution_count": 57,
   "id": "18cff2c5",
   "metadata": {},
   "outputs": [
    {
     "name": "stdout",
     "output_type": "stream",
     "text": [
      "<class 'float'>\n"
     ]
    }
   ],
   "source": [
    "print(type(8/3))"
   ]
  },
  {
   "cell_type": "code",
   "execution_count": 61,
   "id": "ff77abbf",
   "metadata": {},
   "outputs": [
    {
     "name": "stdout",
     "output_type": "stream",
     "text": [
      "1\n"
     ]
    }
   ],
   "source": [
    "#EQUALS\n",
    "\n",
    "pages = 0\n",
    "#Tambahkan pages selanjutnya\n",
    "pages += 1\n",
    "print(pages)"
   ]
  },
  {
   "cell_type": "code",
   "execution_count": 65,
   "id": "f98a2084",
   "metadata": {},
   "outputs": [
    {
     "name": "stdout",
     "output_type": "stream",
     "text": [
      "your sscore is 0, yur height is 1.8, you are wining is True\n"
     ]
    }
   ],
   "source": [
    "#Kalo udah pake f\" lebih enak f-string\n",
    "score = 0\n",
    "height = 1.8\n",
    "isWin = True\n",
    "\n",
    "#BIsa pake f\" untuk for string\n",
    "print(f\"your sscore is {score}, yur height is {height}, you are wining is {isWin}\")"
   ]
  },
  {
   "cell_type": "code",
   "execution_count": 66,
   "id": "1d93fdf0",
   "metadata": {},
   "outputs": [
    {
     "name": "stdout",
     "output_type": "stream",
     "text": [
      " jumlah dari 5 + 7 adalah 12\n"
     ]
    }
   ],
   "source": [
    "#COBAIN\n",
    "\n",
    "B = 5 \n",
    "C = 7\n",
    "\n",
    "print(f\" jumlah dari 5 + 7 adalah {5 + 7}\")"
   ]
  },
  {
   "cell_type": "markdown",
   "id": "05b2cf04",
   "metadata": {},
   "source": [
    "#BIKIN KAlkulator splitt bill"
   ]
  },
  {
   "cell_type": "code",
   "execution_count": 11,
   "id": "e1e8ac31",
   "metadata": {},
   "outputs": [
    {
     "name": "stdout",
     "output_type": "stream",
     "text": [
      "selamat datang di kalkulator split bill\n",
      "Berapa harganya ? 100000\n",
      "Bagi berapa orang ? 10\n",
      "biaya perorang adalah 10000.0\n"
     ]
    }
   ],
   "source": [
    "#BIKIN KALKULATOR\n",
    "\n",
    "print(\"selamat datang di kalkulator split bill\")\n",
    "total_harga = float(input(\"Berapa harganya ? \"))\n",
    "perorang = int(input(\"Bagi berapa orang ? \"))\n",
    "biaya_perorang = print(f\"biaya perorang adalah {total_harga/perorang}\")"
   ]
  },
  {
   "cell_type": "markdown",
   "id": "362603fe",
   "metadata": {},
   "source": [
    "# HARI 3"
   ]
  },
  {
   "cell_type": "raw",
   "id": "78295aa9",
   "metadata": {},
   "source": [
    "CONDITION = IF dan ELSE"
   ]
  },
  {
   "cell_type": "code",
   "execution_count": 3,
   "id": "0c2e9921",
   "metadata": {},
   "outputs": [
    {
     "name": "stdout",
     "output_type": "stream",
     "text": [
      "cari lagi\n"
     ]
    }
   ],
   "source": [
    "#IF DAN ELSE\n",
    "\n",
    "#SAMA DENGAN\n",
    "ukuran_baju = \"L\"\n",
    "\n",
    "if ukuran_baju == \"M\" :\n",
    "    print(\"beli\")\n",
    "else:\n",
    "    print(\"cari lagi\")"
   ]
  },
  {
   "cell_type": "code",
   "execution_count": 4,
   "id": "862f52cd",
   "metadata": {},
   "outputs": [
    {
     "name": "stdout",
     "output_type": "stream",
     "text": [
      "Pertahankan\n"
     ]
    }
   ],
   "source": [
    "#TIDAK SAMA DENGAN\n",
    "ukuran_cinta = \"Cinta Mati\"\n",
    "\n",
    "if ukuran_cinta != \"Biasa saja\":\n",
    "    print(\"Pertahankan\")\n",
    "else:\n",
    "    print(\"tinggalkan\")"
   ]
  },
  {
   "cell_type": "code",
   "execution_count": 14,
   "id": "5c61ed96",
   "metadata": {},
   "outputs": [
    {
     "name": "stdout",
     "output_type": "stream",
     "text": [
      "debit air = 70\n",
      "tetep nyalain\n"
     ]
    }
   ],
   "source": [
    "#LEBIH BESAR\n",
    "\n",
    "debit_air = int(input(\"debit air = \"))\n",
    "\n",
    "if debit_air < 100:\n",
    "    print(\"tetep nyalain\")\n",
    "else:\n",
    "    print(\"matiin lah goblok\")"
   ]
  },
  {
   "cell_type": "code",
   "execution_count": 16,
   "id": "76147671",
   "metadata": {},
   "outputs": [
    {
     "name": "stdout",
     "output_type": "stream",
     "text": [
      "pada suatu hari lagi nyalain air nih\n",
      "mak nanya\n",
      "------------\n",
      "ukuran air 70\n",
      "lanjutin aje ampe penuh\n"
     ]
    }
   ],
   "source": [
    "print(\"pada suatu hari lagi nyalain air nih\")\n",
    "print(\"mak nanya\")\n",
    "\n",
    "print(\"------------\")\n",
    "kondisi = int(input(\"ukuran air \"))\n",
    "\n",
    "if kondisi > 100:\n",
    "    print(\"Matiin hemat listrik\")\n",
    "else:\n",
    "    print(\"lanjutin aje ampe penuh\")"
   ]
  },
  {
   "cell_type": "code",
   "execution_count": 20,
   "id": "e90e7ea5",
   "metadata": {},
   "outputs": [
    {
     "name": "stdout",
     "output_type": "stream",
     "text": [
      "Tinggi badan 250\n",
      "bayar 5$\n"
     ]
    }
   ],
   "source": [
    "#BIKI CONDITION\n",
    "\n",
    "tinggi = int(input(\"Tinggi badan \"))\n",
    "\n",
    "if tinggi > 100 :\n",
    "    if tinggi > 200:\n",
    "        print(\"bayar 5$\")\n",
    "    else :\n",
    "        print(\"bayar 2$\")\n",
    "else:\n",
    "    print(\"gak bisa masuk\")"
   ]
  },
  {
   "cell_type": "code",
   "execution_count": 23,
   "id": "1112afc5",
   "metadata": {},
   "outputs": [
    {
     "name": "stdout",
     "output_type": "stream",
     "text": [
      "Udah punya pacar belom? belom\n",
      "mau gak nyari cewek? mau\n",
      "Selamat kita jadian\n"
     ]
    }
   ],
   "source": [
    "status = str(input(\"Udah punya pacar belom? \"))\n",
    "\n",
    "if status == \"belom\":\n",
    "    mau_gak = str(input(\"mau gak nyari cewek? \"))\n",
    "    if mau_gak == \"mau\":\n",
    "        print(\"Selamat kita jadian\")\n",
    "    else:\n",
    "        print(\"temenan aja\")\n",
    "else:\n",
    "    print(\"udh punya anjing\")"
   ]
  },
  {
   "cell_type": "code",
   "execution_count": 30,
   "id": "20b68ec1",
   "metadata": {},
   "outputs": [
    {
     "name": "stdout",
     "output_type": "stream",
     "text": [
      "berapa tingginya dek? 130\n",
      "berapa dek umurnya12\n",
      "bayar 5$\n"
     ]
    }
   ],
   "source": [
    "#PHYTON DARI ATAS KE BAWAH JD HARUS PERHATIIN\n",
    "\n",
    "tinggi = int(input(\"berapa tingginya dek? \"))\n",
    "\n",
    "if tinggi >= 120:\n",
    "    umur = int(input(\"berapa dek umurnya\"))\n",
    "    if umur > 18:\n",
    "        print(\"bayar 10$\")\n",
    "    elif umur >= 15:\n",
    "        print(\"bayar 7$\")\n",
    "    elif umur >= 10:\n",
    "        print(\"bayar 5$\")\n",
    "    else:\n",
    "        print(\"gratis\")\n",
    "else:\n",
    "    print(\"gak boleh naik\")\n",
    "    "
   ]
  },
  {
   "cell_type": "code",
   "execution_count": 36,
   "id": "fdd8a07a",
   "metadata": {},
   "outputs": [
    {
     "name": "stdout",
     "output_type": "stream",
     "text": [
      "berapa berat anda? 90\n",
      "sangat gemuk\n"
     ]
    }
   ],
   "source": [
    "berat = int(input(\"berapa berat anda? \"))\n",
    "\n",
    "if berat <18.5 :\n",
    "    print(\"Kurus\")\n",
    "elif berat <= 25 :\n",
    "    print(\"normal\")\n",
    "elif berat <= 30 :\n",
    "    print(\"gemuk\")\n",
    "else:\n",
    "    print(\"sangat gemuk\")"
   ]
  },
  {
   "cell_type": "markdown",
   "id": "9e94f856",
   "metadata": {},
   "source": [
    "PAKE % = modulo"
   ]
  },
  {
   "cell_type": "code",
   "execution_count": 1,
   "id": "e03b776e",
   "metadata": {},
   "outputs": [
    {
     "name": "stdout",
     "output_type": "stream",
     "text": [
      "100\n"
     ]
    }
   ],
   "source": [
    "year = int(input())\n",
    "\n",
    "if year % 4 == 0:\n",
    "    if year % 100 == 0 :\n",
    "        print(\"anda berhasil\")\n",
    "    else:\n",
    "        Print"
   ]
  },
  {
   "cell_type": "code",
   "execution_count": 8,
   "id": "c97019de",
   "metadata": {},
   "outputs": [
    {
     "name": "stdout",
     "output_type": "stream",
     "text": [
      "18\n",
      "Berapa umurnya\n",
      "1\n",
      "Bayar 7.000\n"
     ]
    }
   ],
   "source": [
    "umur = int(input())\n",
    "\n",
    "if umur > 12:\n",
    "    print(\"Berapa umurnya\")\n",
    "    jumlah = int(input())\n",
    "    if jumlah >= 5:\n",
    "        print(\"Bayar 10.000\")\n",
    "    elif jumlah >= 3 :\n",
    "        print(\"Bayar 8.000\")\n",
    "    else:\n",
    "        if jumlah <2 :\n",
    "            print(\"Bayar 7.000\")\n",
    "                \n",
    "else:\n",
    "    print(\"Belum cukup umur\")"
   ]
  },
  {
   "cell_type": "code",
   "execution_count": 12,
   "id": "f4aadbc1",
   "metadata": {},
   "outputs": [],
   "source": [
    "anjing = \"bobi\""
   ]
  },
  {
   "cell_type": "code",
   "execution_count": 22,
   "id": "cbdd0693",
   "metadata": {},
   "outputs": [
    {
     "name": "stdout",
     "output_type": "stream",
     "text": [
      "Berapa tinggi badan mu dalam cm 120\n",
      "Berapa umur mu 19\n",
      "Bayar 10.000\n",
      "Mau foto gak? Y atau NY\n",
      "Total yang harus dibayar: 15000\n"
     ]
    }
   ],
   "source": [
    "tinggi = int(input(\"Berapa tinggi badan mu dalam cm \"))\n",
    "bayar = 0\n",
    "\n",
    "if tinggi >= 120 :\n",
    "    umur = int(input(\"Berapa umur mu \"))\n",
    "    if umur >= 17 :\n",
    "        bayar = 10000\n",
    "        print(\"Bayar 10.000\")\n",
    "    elif umur >= 12 :\n",
    "        bayar = 8000\n",
    "        print (\"Bayar 8.000\")\n",
    "    else:\n",
    "        bayar = 5000\n",
    "        print (\"Bayar 5.000\")\n",
    "        \n",
    "    foto = input(\"Mau foto gak? Y atau N\")\n",
    "    if foto == \"Y\":\n",
    "        bayar += 5000\n",
    "    \n",
    "    print(f\"Total yang harus dibayar: {bayar}\")\n",
    "        \n",
    "        \n",
    "else:\n",
    "    print(\"Gak boleh naik\")"
   ]
  },
  {
   "cell_type": "markdown",
   "id": "7ab2455b",
   "metadata": {},
   "source": [
    "BIKIN codingan Parkir"
   ]
  },
  {
   "cell_type": "code",
   "execution_count": 27,
   "id": "a143c380",
   "metadata": {},
   "outputs": [
    {
     "name": "stdout",
     "output_type": "stream",
     "text": [
      "Apa jenis kendaraannya? Masukkan Mobil, Motor, atau Sepeda: Motor\n",
      "Berapa jam dia parkir? 10\n",
      "Total bayar: 21000\n"
     ]
    }
   ],
   "source": [
    "kendaraan = input(\"Apa jenis kendaraannya? Masukkan Mobil, Motor, atau Sepeda: \")\n",
    "bayar_mobil = 5000\n",
    "bayar_motor = 3000\n",
    "\n",
    "if kendaraan == \"Mobil\":\n",
    "    durasi = int(input(\"Berapa jam dia parkir? \"))\n",
    "    if durasi > 1:\n",
    "        total_bayar = bayar_mobil + (durasi - 1) * 3000\n",
    "        print(f\"Total bayar: {total_bayar}\")\n",
    "    else:\n",
    "        print(\"Bayar 5000\")\n",
    "        \n",
    "elif kendaraan == \"Motor\":\n",
    "    durasi = int(input(\"Berapa jam dia parkir? \"))\n",
    "    if durasi > 1 :\n",
    "        total_bayar = bayar_motor + (durasi - 1) * 2000\n",
    "        print(f\"Total bayar: {total_bayar}\")\n",
    "        \n",
    "else:\n",
    "    print(\"Gratis, tidak perlu membayar\")\n"
   ]
  },
  {
   "cell_type": "markdown",
   "id": "cb194b63",
   "metadata": {},
   "source": [
    "# PIZZA BOBI"
   ]
  },
  {
   "cell_type": "code",
   "execution_count": 37,
   "id": "5d5d272a",
   "metadata": {},
   "outputs": [
    {
     "name": "stdout",
     "output_type": "stream",
     "text": [
      "Mau pizza ukuran apa? Masukan S, M, L, XL: M\n",
      "Mau pake keju gak? Masukan Y or N: N\n",
      "Mau pake tambahan sosis gak? Masukan Y or N: N\n",
      "Mau pake tambahan sosis dan keju gak? Masukan Y or N: Y\n",
      "Total yang harus dibayar: 40000\n"
     ]
    }
   ],
   "source": [
    "size = input(\"Mau pizza ukuran apa? Masukan S, M, L, XL: \")\n",
    "\n",
    "hargaPizzaS = 20000\n",
    "hargaPizzaM = 30000\n",
    "hargaPizzaL = 50000\n",
    "hargaPizzaXL = 100000\n",
    "add_keju = 5000\n",
    "add_extra_sosis = 5000\n",
    "add_keju_sosis = 10000\n",
    "\n",
    "if size == 'S':\n",
    "    total_bayar = hargaPizzaS\n",
    "    \n",
    "    mau_keju = input(\"Mau pake keju gak? Masukan Y or N: \")\n",
    "    if mau_keju == \"Y\":\n",
    "        total_bayar += add_keju \n",
    "    \n",
    "    mau_extra_sosis = input(\"Mau pake tambahan sosis gak? Masukan Y or N: \")  \n",
    "    if mau_extra_sosis == \"Y\":\n",
    "        total_bayar += add_extra_sosis \n",
    "    \n",
    "    mau_keju_sosis = input(\"Mau pake tambahan sosis dan keju gak? Masukan Y or N: \")  \n",
    "    if mau_keju_sosis == \"Y\":\n",
    "        total_bayar += add_keju_sosis\n",
    "        \n",
    "    print(f\"Total yang harus dibayar: {total_bayar}\")\n",
    "    \n",
    "    \n",
    "elif size == \"M\":\n",
    "    total_bayar = hargaPizzaM\n",
    "    \n",
    "    mau_keju = input(\"Mau pake keju gak? Masukan Y or N: \")\n",
    "    if mau_keju == \"Y\":\n",
    "        total_bayar += add_keju \n",
    "    \n",
    "    mau_extra_sosis = input(\"Mau pake tambahan sosis gak? Masukan Y or N: \")  \n",
    "    if mau_extra_sosis == \"Y\":\n",
    "        total_bayar += add_extra_sosis \n",
    "    \n",
    "    mau_keju_sosis = input(\"Mau pake tambahan sosis dan keju gak? Masukan Y or N: \")  \n",
    "    if mau_keju_sosis == \"Y\":\n",
    "        total_bayar += add_keju_sosis\n",
    "        \n",
    "    print(f\"Total yang harus dibayar: {total_bayar}\")\n",
    "\n",
    "elif size == \"L\":\n",
    "    total_bayar = hargaPizzaL\n",
    "    \n",
    "    mau_keju = input(\"Mau pake keju gak? Masukan Y or N: \")\n",
    "    if mau_keju == \"Y\":\n",
    "        total_bayar += add_keju \n",
    "    \n",
    "    mau_extra_sosis = input(\"Mau pake tambahan sosis gak? Masukan Y or N: \")  \n",
    "    if mau_extra_sosis == \"Y\":\n",
    "        total_bayar += add_extra_sosis \n",
    "    \n",
    "    mau_keju_sosis = input(\"Mau pake tambahan sosis dan keju gak? Masukan Y or N: \")  \n",
    "    if mau_keju_sosis == \"Y\":\n",
    "        total_bayar += add_keju_sosis\n",
    "        \n",
    "    print(f\"Total yang harus dibayar: {total_bayar}\")\n",
    "    \n",
    "elif size == \"XL\":\n",
    "    total_bayar = hargaPizzaXL\n",
    "    \n",
    "    mau_keju = input(\"Mau pake keju gak? Masukan Y or N: \")\n",
    "    if mau_keju == \"Y\":\n",
    "        total_bayar += add_keju \n",
    "    \n",
    "    mau_extra_sosis = input(\"Mau pake tambahan sosis gak? Masukan Y or N: \")  \n",
    "    if mau_extra_sosis == \"Y\":\n",
    "        total_bayar += add_extra_sosis \n",
    "    \n",
    "    mau_keju_sosis = input(\"Mau pake tambahan sosis dan keju gak? Masukan Y or N: \")  \n",
    "    if mau_keju_sosis == \"Y\":\n",
    "        total_bayar += add_keju_sosis\n",
    "        \n",
    "    print(f\"Total yang harus dibayar: {total_bayar}\")\n",
    "        \n",
    "else:\n",
    "    print(\"Dasar palkor\")\n"
   ]
  },
  {
   "cell_type": "code",
   "execution_count": 39,
   "id": "b43596f2",
   "metadata": {},
   "outputs": [
    {
     "name": "stdout",
     "output_type": "stream",
     "text": [
      "Mau pizza ukuran apa? Masukan S, M, L, XL: M\n",
      "Mau tambahan apa? Input Keju, Sosis, Sosis dan kejug\n",
      "Total yang harus dibayar: 30000\n"
     ]
    }
   ],
   "source": [
    "size = input(\"Mau pizza ukuran apa? Masukan S, M, L, XL: \")\n",
    "\n",
    "#HARGA PIZZA\n",
    "hargaPizzaS = 20000\n",
    "hargaPizzaM = 30000\n",
    "hargaPizzaL = 50000\n",
    "hargaPizzaXL = 100000\n",
    "\n",
    "#TAMBAHAN TOPPING\n",
    "add_keju = 5000\n",
    "add_extra_sosis = 5000\n",
    "add_keju_sosis = 10000\n",
    "\n",
    "if size == 'S':\n",
    "    total_bayar = hargaPizzaS\n",
    "    \n",
    "    mau_tambahan = input(\"Mau tambahan apa? Input Keju, Sosis, Sosis dan keju\")\n",
    "    total_bayar = hargaPizzaM\n",
    "    \n",
    "    if mau_tambahan == \"Keju\":\n",
    "        total_bayar += add_keju\n",
    "    if mau_tambahan == \"Sosis\":\n",
    "        total_bayar += add_extra_sosis\n",
    "    if mau_tambahan == \"Sosis dan keju\":\n",
    "        total_bayar += add_keju_sosis\n",
    "    else:\n",
    "        total_bayar\n",
    "        \n",
    "    print(f\"Total yang harus dibayar: {total_bayar}\")\n",
    "    \n",
    "    \n",
    "elif size == \"M\":\n",
    "    mau_tambahan = input(\"Mau tambahan apa? Input Keju, Sosis, Sosis dan keju\")\n",
    "    total_bayar = hargaPizzaM\n",
    "    \n",
    "    if mau_tambahan == \"Keju\":\n",
    "        total_bayar += add_keju\n",
    "    if mau_tambahan == \"Sosis\":\n",
    "        total_bayar += add_extra_sosis\n",
    "    if mau_tambahan == \"Sosis dan keju\":\n",
    "        total_bayar += add_keju_sosis\n",
    "    else:\n",
    "        total_bayar\n",
    "    \n",
    "    print(f\"Total yang harus dibayar: {total_bayar}\")\n",
    "        \n",
    "        \n",
    "elif size == \"L\":\n",
    "    mau_tambahan = input(\"Mau tambahan apa? Input Keju, Sosis, Sosis dan keju\")\n",
    "    total_bayar = hargaPizzaL\n",
    "    \n",
    "    if mau_tambahan == \"Keju\":\n",
    "        total_bayar += add_keju\n",
    "    if mau_tambahan == \"Sosis\":\n",
    "        total_bayar += add_extra_sosis\n",
    "    if mau_tambahan == \"Sosis dan keju\":\n",
    "        total_bayar += add_keju_sosis\n",
    "    else:\n",
    "        total_bayar\n",
    "    \n",
    "    print(f\"Total yang harus dibayar: {total_bayar}\")\n",
    "    \n",
    "elif size == \"XL\":\n",
    "    mau_tambahan = input(\"Mau tambahan apa? Input Keju, Sosis, Sosis dan keju\")\n",
    "    total_bayar = hargaPizzaXL\n",
    "    \n",
    "    if mau_tambahan == \"Keju\":\n",
    "        total_bayar += add_keju\n",
    "    if mau_tambahan == \"Sosis\":\n",
    "        total_bayar += add_extra_sosis\n",
    "    if mau_tambahan == \"Sosis dan keju\":\n",
    "        total_bayar += add_keju_sosis\n",
    "    else:\n",
    "        total_bayar\n",
    "        \n",
    "    print(f\"Total yang harus dibayar: {total_bayar}\")\n",
    "\n",
    "else:\n",
    "    print(\"Dasar palkor\")\n"
   ]
  },
  {
   "cell_type": "raw",
   "id": "25da6cc9",
   "metadata": {},
   "source": [
    "ADA condition\n",
    "\n",
    "1. and \n",
    "2. or\n",
    "3. not\n",
    "\n",
    "kalo rentang 45 - 55 tahun\n",
    "pake age>= 45 and ages <= 55"
   ]
  },
  {
   "cell_type": "code",
   "execution_count": 50,
   "id": "48352f15",
   "metadata": {},
   "outputs": [
    {
     "name": "stdout",
     "output_type": "stream",
     "text": [
      "Pengen tau berapa rasa kecocokan lu ama pasangan lu? sini gw itungin\n",
      "Masukin nama lu? Bobi\n",
      "Masukin nama lu? Mamay\n",
      " total nilai 1, Cocok banget\n"
     ]
    }
   ],
   "source": [
    "print(\"Pengen tau berapa rasa kecocokan lu ama pasangan lu? sini gw itungin\")\n",
    "\n",
    "nama1 = input(\"Masukin nama lu? \")\n",
    "nama2 = input(\"Masukin nama lu? \")\n",
    "\n",
    "#Gabungin jadi satu\n",
    "nama_pasangan = nama1 + nama2\n",
    "huruf_kecil_nama_pasangan = nama_pasangan.lower()\n",
    "\n",
    "t = huruf_kecil_nama_pasangan.count(\"t\")\n",
    "r = huruf_kecil_nama_pasangan.count(\"r\")\n",
    "u = huruf_kecil_nama_pasangan.count(\"u\")\n",
    "e = huruf_kecil_nama_pasangan.count(\"e\")\n",
    "\n",
    "digit_pertama = t + r + u + e\n",
    "\n",
    "l = huruf_kecil_nama_pasangan.count(\"l\")\n",
    "o = huruf_kecil_nama_pasangan.count(\"o\")\n",
    "v = huruf_kecil_nama_pasangan.count(\"v\")\n",
    "e = huruf_kecil_nama_pasangan.count(\"e\")\n",
    "\n",
    "digit_kedua = l + o + v + e\n",
    "\n",
    "nilai = int(str(digit_pertama) + str(digit_kedua))\n",
    "\n",
    "if (nilai < 10 ) or (nilai > 90):\n",
    "    print(f\" total nilai {nilai}, Cocok banget\")\n",
    "    \n",
    "elif (nilai >= 40 ) and (nilai <= 50):\n",
    "    print(f\" total nilai {nilai}, Cocok\")\n",
    "    \n",
    "else:\n",
    "    print(f\" total nilai {nilai}, Lumayan\")\n"
   ]
  },
  {
   "cell_type": "code",
   "execution_count": 43,
   "id": "cc4fabc4",
   "metadata": {},
   "outputs": [
    {
     "name": "stdout",
     "output_type": "stream",
     "text": [
      "Seprian Najib HilmiMayla Marsya Marizka\n"
     ]
    }
   ],
   "source": [
    "print(nama_pasangan)"
   ]
  },
  {
   "cell_type": "code",
   "execution_count": 48,
   "id": "273261f0",
   "metadata": {},
   "outputs": [
    {
     "name": "stdout",
     "output_type": "stream",
     "text": [
      "0\n",
      "1\n"
     ]
    }
   ],
   "source": [
    "print(digit_pertama)\n",
    "print(digit_kedua)"
   ]
  },
  {
   "cell_type": "markdown",
   "id": "9b4b8b9e",
   "metadata": {},
   "source": [
    "# HARI 4"
   ]
  },
  {
   "cell_type": "raw",
   "id": "4a89651f",
   "metadata": {},
   "source": [
    "Belajar Random angka (integer)"
   ]
  },
  {
   "cell_type": "code",
   "execution_count": 1,
   "id": "52147eb5",
   "metadata": {},
   "outputs": [],
   "source": [
    "import random"
   ]
  },
  {
   "cell_type": "code",
   "execution_count": 11,
   "id": "60851ffa",
   "metadata": {},
   "outputs": [
    {
     "name": "stdout",
     "output_type": "stream",
     "text": [
      "93\n"
     ]
    }
   ],
   "source": [
    "acak = random.randint(10,100)\n",
    "print(acak)"
   ]
  },
  {
   "cell_type": "code",
   "execution_count": 9,
   "id": "61765efe",
   "metadata": {},
   "outputs": [
    {
     "name": "stdout",
     "output_type": "stream",
     "text": [
      "I love you mamay\n"
     ]
    }
   ],
   "source": [
    "import bobi_mayla as bm\n",
    "\n",
    "print(bm.cinta)"
   ]
  },
  {
   "cell_type": "markdown",
   "id": "5b542152",
   "metadata": {},
   "source": [
    "random.random() = berfungsi ngambil angka acak dari 0 - 1.0 dalam bentuk float"
   ]
  },
  {
   "cell_type": "code",
   "execution_count": 15,
   "id": "e86085b5",
   "metadata": {},
   "outputs": [
    {
     "data": {
      "text/plain": [
       "0.7947375497738457"
      ]
     },
     "execution_count": 15,
     "metadata": {},
     "output_type": "execute_result"
    }
   ],
   "source": [
    "random_float = random.random()\n",
    "random_float"
   ]
  },
  {
   "cell_type": "code",
   "execution_count": 18,
   "id": "f8484ade",
   "metadata": {},
   "outputs": [
    {
     "name": "stdout",
     "output_type": "stream",
     "text": [
      "4.0\n"
     ]
    }
   ],
   "source": [
    "#Random misalnya 0 - 5 dalam float ini gaak bakal dapet desimal\n",
    "\n",
    "ngasal = float(random.randint(0,5))\n",
    "print(ngasal)\n"
   ]
  },
  {
   "cell_type": "code",
   "execution_count": 22,
   "id": "77b4eac4",
   "metadata": {},
   "outputs": [
    {
     "name": "stdout",
     "output_type": "stream",
     "text": [
      "2.1205740820203065\n"
     ]
    }
   ],
   "source": [
    "#Kaalo mau pake desimal 0 -5\n",
    "\n",
    "ngasal1 = random.random() * 5\n",
    "print(ngasal1)"
   ]
  },
  {
   "cell_type": "raw",
   "id": "478076db",
   "metadata": {},
   "source": [
    "kalo pake randint = ini bentuknya bilangan bulat\n",
    "kalo random = ini hasilnya bisa desimal"
   ]
  },
  {
   "cell_type": "code",
   "execution_count": 29,
   "id": "5a68c93e",
   "metadata": {},
   "outputs": [
    {
     "name": "stdout",
     "output_type": "stream",
     "text": [
      "besaran cintanya adalah 96 persen\n",
      "besaran cintanya adalah 18.79882824039748 persen\n"
     ]
    }
   ],
   "source": [
    "cinta = random.randint(0,100)\n",
    "print(f\"besaran cintanya adalah {cinta} persen\")\n",
    "\n",
    "cinta2 = random.random() * 100\n",
    "print(f\"besaran cintanya adalah {cinta2} persen\")"
   ]
  },
  {
   "cell_type": "code",
   "execution_count": 32,
   "id": "b5c02be7",
   "metadata": {},
   "outputs": [
    {
     "name": "stdout",
     "output_type": "stream",
     "text": [
      "Heads\n"
     ]
    }
   ],
   "source": [
    "# bikin pala dan ekor\n",
    "\n",
    "acak3 = random.randint(0,1)\n",
    "\n",
    "if acak3 == 1:\n",
    "    print(\"Heads\")\n",
    "    \n",
    "else:\n",
    "    print(\"Tails\")"
   ]
  },
  {
   "cell_type": "markdown",
   "id": "24f89edf",
   "metadata": {},
   "source": [
    "STRUCTURE DATA"
   ]
  },
  {
   "cell_type": "raw",
   "id": "287cfc1c",
   "metadata": {},
   "source": [
    "List = [ ]"
   ]
  },
  {
   "cell_type": "code",
   "execution_count": 2,
   "id": "3c4653f8",
   "metadata": {},
   "outputs": [
    {
     "data": {
      "text/plain": [
       "['Apel', 'Mangga', 'Pisang']"
      ]
     },
     "execution_count": 2,
     "metadata": {},
     "output_type": "execute_result"
    }
   ],
   "source": [
    "list_buah = [\"Apel\", \"Mangga\", \"Pisang\"]\n",
    "list_buah"
   ]
  },
  {
   "cell_type": "code",
   "execution_count": 3,
   "id": "45fe77fa",
   "metadata": {},
   "outputs": [
    {
     "name": "stdout",
     "output_type": "stream",
     "text": [
      "Apel\n"
     ]
    }
   ],
   "source": [
    "#print per indeks\n",
    "print(list_buah[0])"
   ]
  },
  {
   "cell_type": "code",
   "execution_count": 4,
   "id": "aedd9957",
   "metadata": {},
   "outputs": [
    {
     "name": "stdout",
     "output_type": "stream",
     "text": [
      "['Apel', 'Mangga', 'Pisang']\n"
     ]
    }
   ],
   "source": [
    "#print pake rentang\n",
    "print(list_buah[0:3])"
   ]
  },
  {
   "cell_type": "code",
   "execution_count": 5,
   "id": "f1bca696",
   "metadata": {},
   "outputs": [
    {
     "name": "stdout",
     "output_type": "stream",
     "text": [
      "Pisang\n"
     ]
    }
   ],
   "source": [
    "#kalo minus berarti dari belakang\n",
    "print(list_buah[-1])"
   ]
  },
  {
   "cell_type": "code",
   "execution_count": 6,
   "id": "a36e85b7",
   "metadata": {},
   "outputs": [],
   "source": [
    "#kalo mau benerin list\n",
    "list_buah[1] = \"Pepaya\""
   ]
  },
  {
   "cell_type": "code",
   "execution_count": 7,
   "id": "6b55f040",
   "metadata": {},
   "outputs": [
    {
     "name": "stdout",
     "output_type": "stream",
     "text": [
      "['Apel', 'Pepaya', 'Pisang']\n"
     ]
    }
   ],
   "source": [
    "print(list_buah)"
   ]
  },
  {
   "cell_type": "code",
   "execution_count": 8,
   "id": "7fe3006f",
   "metadata": {},
   "outputs": [],
   "source": [
    "#Kaalo mau nambahin satu data mangkanya tupple\n",
    "list_buah.append(\"Jeruk\")"
   ]
  },
  {
   "cell_type": "code",
   "execution_count": 9,
   "id": "7377a149",
   "metadata": {},
   "outputs": [
    {
     "name": "stdout",
     "output_type": "stream",
     "text": [
      "['Apel', 'Pepaya', 'Pisang', 'Jeruk']\n"
     ]
    }
   ],
   "source": [
    "print(list_buah)"
   ]
  },
  {
   "cell_type": "code",
   "execution_count": 10,
   "id": "1d3dc7d0",
   "metadata": {},
   "outputs": [],
   "source": [
    "#Kaalo mau nambahin banyak data pake extend\n",
    "list_buah.extend([\"Mangga\", \"Semangka\"])"
   ]
  },
  {
   "cell_type": "code",
   "execution_count": 11,
   "id": "83207268",
   "metadata": {},
   "outputs": [
    {
     "data": {
      "text/plain": [
       "['Apel', 'Pepaya', 'Pisang', 'Jeruk', 'Mangga', 'Semangka']"
      ]
     },
     "execution_count": 11,
     "metadata": {},
     "output_type": "execute_result"
    }
   ],
   "source": [
    "list_buah"
   ]
  },
  {
   "cell_type": "code",
   "execution_count": 12,
   "id": "d9e5e15c",
   "metadata": {},
   "outputs": [],
   "source": [
    "list_buah.append([\"Jeruk\", \"jambu\"])"
   ]
  },
  {
   "cell_type": "code",
   "execution_count": 13,
   "id": "aa4c0ce3",
   "metadata": {},
   "outputs": [
    {
     "name": "stdout",
     "output_type": "stream",
     "text": [
      "['Apel', 'Pepaya', 'Pisang', 'Jeruk', 'Mangga', 'Semangka', ['Jeruk', 'jambu']]\n"
     ]
    }
   ],
   "source": [
    "print(list_buah)"
   ]
  },
  {
   "cell_type": "code",
   "execution_count": 14,
   "id": "2b222dbb",
   "metadata": {},
   "outputs": [],
   "source": [
    "list_buah.remove([\"Jeruk\", \"jambu\"])"
   ]
  },
  {
   "cell_type": "code",
   "execution_count": 15,
   "id": "3ef64395",
   "metadata": {},
   "outputs": [
    {
     "name": "stdout",
     "output_type": "stream",
     "text": [
      "['Apel', 'Pepaya', 'Pisang', 'Jeruk', 'Mangga', 'Semangka']\n"
     ]
    }
   ],
   "source": [
    "print(list_buah)"
   ]
  },
  {
   "cell_type": "code",
   "execution_count": 16,
   "id": "9e285168",
   "metadata": {},
   "outputs": [
    {
     "data": {
      "text/plain": [
       "'Apel'"
      ]
     },
     "execution_count": 16,
     "metadata": {},
     "output_type": "execute_result"
    }
   ],
   "source": [
    "#Kalo mau pake urutan pake pop\n",
    "\n",
    "list_buah.pop(0)"
   ]
  },
  {
   "cell_type": "code",
   "execution_count": 17,
   "id": "eb8fb221",
   "metadata": {},
   "outputs": [
    {
     "name": "stdout",
     "output_type": "stream",
     "text": [
      "['Pepaya', 'Pisang', 'Jeruk', 'Mangga', 'Semangka']\n"
     ]
    }
   ],
   "source": [
    "print(list_buah)"
   ]
  },
  {
   "cell_type": "code",
   "execution_count": 18,
   "id": "c32ea511",
   "metadata": {},
   "outputs": [
    {
     "data": {
      "text/plain": [
       "'Jeruk'"
      ]
     },
     "execution_count": 18,
     "metadata": {},
     "output_type": "execute_result"
    }
   ],
   "source": [
    "list_buah.pop(2)"
   ]
  },
  {
   "cell_type": "code",
   "execution_count": 19,
   "id": "fdca0c27",
   "metadata": {},
   "outputs": [
    {
     "name": "stdout",
     "output_type": "stream",
     "text": [
      "['Pepaya', 'Pisang', 'Mangga', 'Semangka']\n"
     ]
    }
   ],
   "source": [
    "print(list_buah)"
   ]
  },
  {
   "cell_type": "code",
   "execution_count": 20,
   "id": "c9f5cffa",
   "metadata": {},
   "outputs": [],
   "source": [
    "#kalo mau list pake del\n",
    "\n",
    "del list_buah[0:2]"
   ]
  },
  {
   "cell_type": "code",
   "execution_count": 21,
   "id": "02274e52",
   "metadata": {},
   "outputs": [
    {
     "name": "stdout",
     "output_type": "stream",
     "text": [
      "['Mangga', 'Semangka']\n"
     ]
    }
   ],
   "source": [
    "print(list_buah)"
   ]
  },
  {
   "cell_type": "markdown",
   "id": "d817b5a4",
   "metadata": {},
   "source": [
    "Bikin list dalam list"
   ]
  },
  {
   "cell_type": "code",
   "execution_count": 22,
   "id": "764de76f",
   "metadata": {},
   "outputs": [],
   "source": [
    "# #Bikin list Nama\n",
    "# nama = [\"bobi\", \"hilmi\", \"nandang\", \"muning\", \"nanik\", \"ghina\"]"
   ]
  },
  {
   "cell_type": "code",
   "execution_count": 23,
   "id": "56c642a7",
   "metadata": {},
   "outputs": [],
   "source": [
    "buah = [\"apel\",\"mangga\",\"pear\"]\n",
    "sayur = [\"bayem\", \"kangkung\", \"sawi\"]"
   ]
  },
  {
   "cell_type": "code",
   "execution_count": 24,
   "id": "53d11206",
   "metadata": {},
   "outputs": [],
   "source": [
    "bahan_makanan = [buah,sayur]"
   ]
  },
  {
   "cell_type": "code",
   "execution_count": 25,
   "id": "6a0ccac0",
   "metadata": {},
   "outputs": [
    {
     "name": "stdout",
     "output_type": "stream",
     "text": [
      "[['apel', 'mangga', 'pear'], ['bayem', 'kangkung', 'sawi']]\n"
     ]
    }
   ],
   "source": [
    "print(bahan_makanan)"
   ]
  },
  {
   "cell_type": "code",
   "execution_count": 38,
   "id": "fa58564e",
   "metadata": {},
   "outputs": [
    {
     "name": "stdout",
     "output_type": "stream",
     "text": [
      "Selamat datang di Permainan gunting batu kertas\n",
      "Masukkan pilihan Anda (gunting, batu, kertas): kertas\n",
      "Komputer memilih: gunting\n",
      "Komputer menang!\n"
     ]
    }
   ],
   "source": [
    "import random\n",
    "\n",
    "# definisiin\n",
    "options = [\"gunting\", \"batu\", \"kertas\"]\n",
    "\n",
    "print(\"Selamat datang di Permainan gunting batu kertas\")\n",
    "masukan_tangan_kita = input(\"Masukkan pilihan Anda (gunting, batu, kertas): \").lower()\n",
    "\n",
    "# harus bener\n",
    "if masukan_tangan_kita not in options:\n",
    "    print(\"Masukan tidak valid. Mohon masukkan gunting, batu, atau kertas.\")\n",
    "else:\n",
    "    # Generate a random choice for the computer\n",
    "    masukan_komputer = random.choice(options)\n",
    "    print(f\"Komputer memilih: {masukan_komputer}\")\n",
    "\n",
    "    # Modify the logic to ensure computer always wins\n",
    "    if (masukan_tangan_kita == \"gunting\" and masukan_komputer == \"batu\") or \\\n",
    "       (masukan_tangan_kita == \"batu\" and masukan_komputer == \"kertas\") or \\\n",
    "       (masukan_tangan_kita == \"kertas\" and masukan_komputer == \"gunting\"):\n",
    "        print(\"Komputer menang!\")\n",
    "    elif masukan_tangan_kita == masukan_komputer:\n",
    "        print(\"Hasilnya seri!\")\n",
    "    else:\n",
    "        print(\"Anda menang!\")\n"
   ]
  },
  {
   "cell_type": "markdown",
   "id": "2db1be50",
   "metadata": {},
   "source": [
    "# HARI 5"
   ]
  },
  {
   "cell_type": "markdown",
   "id": "925d0bbd",
   "metadata": {},
   "source": [
    "LOOPS , Range"
   ]
  },
  {
   "cell_type": "code",
   "execution_count": 44,
   "id": "06af7cd7",
   "metadata": {},
   "outputs": [
    {
     "name": "stdout",
     "output_type": "stream",
     "text": [
      "pisang\n",
      "pisangpie\n",
      "mangga\n",
      "manggapie\n",
      "jambu\n",
      "jambupie\n"
     ]
    }
   ],
   "source": [
    "fruits = [\"pisang\",\"mangga\",\"jambu\"]\n",
    "\n",
    "for fruit in fruits:\n",
    "    print(fruit)\n",
    "    print(fruit + \"pie\")"
   ]
  },
  {
   "cell_type": "code",
   "execution_count": 69,
   "id": "2a396704",
   "metadata": {},
   "outputs": [
    {
     "name": "stdout",
     "output_type": "stream",
     "text": [
      "jadi rata ratanya 95.0 cm\n"
     ]
    }
   ],
   "source": [
    "heights = [165, 70, 50]\n",
    "banyak_data = int(len(heights))\n",
    "\n",
    "\n",
    "# Write your code below this row 👇\n",
    "total_height = 0\n",
    "\n",
    "for height in heights:\n",
    "    total_height += height\n",
    "    murid = total_height  # If you want to assign the current total to murid\n",
    "\n",
    "    for a_height in heights :\n",
    "        a = murid / banyak_data\n",
    "        \n",
    "print(f\"jadi rata ratanya {a} cm\")\n",
    "        \n",
    "    "
   ]
  },
  {
   "cell_type": "code",
   "execution_count": 77,
   "id": "ee198b99",
   "metadata": {},
   "outputs": [
    {
     "name": "stdout",
     "output_type": "stream",
     "text": [
      "101\n"
     ]
    }
   ],
   "source": [
    "#Jadi patokan 100 kemudian nambah pasti bisa\n",
    "\n",
    "\n",
    "nilais = [80,100, 90, 80, 101]\n",
    "max_nilai = nilais[0]  # Menginisialisasi max_nilai dengan elemen pertama dari list\n",
    "\n",
    "for nilai in nilais:\n",
    "    if nilai > max_nilai:\n",
    "        max_nilai = nilai\n",
    "print(max_nilai)\n"
   ]
  },
  {
   "cell_type": "code",
   "execution_count": 75,
   "id": "9773ce42",
   "metadata": {},
   "outputs": [
    {
     "name": "stdout",
     "output_type": "stream",
     "text": [
      "100\n"
     ]
    }
   ],
   "source": [
    "print(nilais[0])"
   ]
  },
  {
   "cell_type": "code",
   "execution_count": 3,
   "id": "9af6e152",
   "metadata": {},
   "outputs": [
    {
     "name": "stdout",
     "output_type": "stream",
     "text": [
      "0\n",
      "2\n",
      "4\n",
      "6\n",
      "8\n"
     ]
    }
   ],
   "source": [
    "#cetak number\n",
    "for number in range(0,10, 2):\n",
    "    print(number)"
   ]
  },
  {
   "cell_type": "code",
   "execution_count": 11,
   "id": "11051977",
   "metadata": {},
   "outputs": [
    {
     "name": "stdout",
     "output_type": "stream",
     "text": [
      "5050\n"
     ]
    }
   ],
   "source": [
    "#Buat nambahin\n",
    "\n",
    "total = 0\n",
    "for number in range (1,101):\n",
    "    total += number\n",
    "    \n",
    "print(total)"
   ]
  },
  {
   "cell_type": "markdown",
   "id": "fedf4f15",
   "metadata": {},
   "source": [
    "SOAL"
   ]
  },
  {
   "cell_type": "code",
   "execution_count": 2,
   "id": "ad72caf5",
   "metadata": {},
   "outputs": [
    {
     "name": "stdout",
     "output_type": "stream",
     "text": [
      "100\n",
      "2550\n"
     ]
    }
   ],
   "source": [
    "target = int(input())\n",
    "for number in range (0, 100, 2):\n",
    "  target += number\n",
    "print(target)\n"
   ]
  },
  {
   "cell_type": "code",
   "execution_count": 5,
   "id": "5285cfa3",
   "metadata": {},
   "outputs": [
    {
     "name": "stdout",
     "output_type": "stream",
     "text": [
      "7\n",
      "11\n"
     ]
    }
   ],
   "source": [
    "target = int(input())\n",
    "for number in range (4, 5):\n",
    "  target += number\n",
    "  print(target)"
   ]
  },
  {
   "cell_type": "code",
   "execution_count": 6,
   "id": "56418bf9",
   "metadata": {},
   "outputs": [
    {
     "name": "stdout",
     "output_type": "stream",
     "text": [
      "0\n",
      "1\n",
      "2\n",
      "3\n",
      "4\n"
     ]
    }
   ],
   "source": [
    "number = 0\n",
    "for number in range (0,5):\n",
    "    print(number)"
   ]
  },
  {
   "cell_type": "markdown",
   "id": "1db6a317",
   "metadata": {},
   "source": [
    "BIKIN PERMAINAN TEPUK TANGAN"
   ]
  },
  {
   "cell_type": "code",
   "execution_count": 12,
   "id": "691777f6",
   "metadata": {},
   "outputs": [
    {
     "name": "stdout",
     "output_type": "stream",
     "text": [
      "1\n",
      "2\n",
      "tepuk tangan nih habis di bagi 3\n",
      "4\n",
      "tepuk tangan nih habis dibagi 5\n",
      "tepuk tangan nih habis di bagi 3\n",
      "7\n",
      "8\n",
      "tepuk tangan nih habis di bagi 3\n",
      "tepuk tangan nih habis dibagi 5\n"
     ]
    }
   ],
   "source": [
    "target = 10\n",
    "for number in range(1, target + 1):\n",
    "    if number %3 == 0 and number %5 ==0:\n",
    "        print(\"tepuk tangan lah tolol gw capek ngoding\")\n",
    "    elif number %3 == 0:\n",
    "        print(\"tepuk tangan nih habis di bagi 3\")\n",
    "    elif number %5 == 0:\n",
    "        print(\"tepuk tangan nih habis dibagi 5\")\n",
    "    else:\n",
    "        print(number)"
   ]
  },
  {
   "cell_type": "raw",
   "id": "64ee348b",
   "metadata": {},
   "source": [
    "Buat Project password generator"
   ]
  },
  {
   "cell_type": "code",
   "execution_count": 27,
   "id": "4474c0ee",
   "metadata": {},
   "outputs": [
    {
     "name": "stdout",
     "output_type": "stream",
     "text": [
      "Selamat datang di password random\n",
      "Berapa huruf yang kamu inginkan?\n",
      "5\n",
      "Password acakmu: NBLJQ\n"
     ]
    }
   ],
   "source": [
    "import random\n",
    "\n",
    "# BAHAN - BAHAN\n",
    "huruf = ['A', 'B', 'C', 'D', 'E', 'F', 'G', 'H', 'I', 'J', \n",
    "        'K', 'L', 'M', 'N', 'O', 'P', 'Q', 'R', 'S', 'T', 'U', 'V', 'W', 'X', 'Y', 'Z']\n",
    "angka = [0, 1, 2, 3, 4, 5, 6, 7, 8, 9]\n",
    "simbol = ['!', '@', '#', '$', '%']\n",
    "\n",
    "print(\"Selamat datang di password random\")\n",
    "jumlah_huruf = int(input(\"Berapa huruf yang kamu inginkan?\\n\"))\n",
    "\n",
    "password = \"\"\n",
    "for _ in range(jumlah_huruf):\n",
    "    huruf_acak = random.choice(huruf)\n",
    "    password += huruf_acak\n",
    "\n",
    "print(\"Password acakmu:\", password)\n"
   ]
  },
  {
   "cell_type": "code",
   "execution_count": null,
   "id": "78f245ca",
   "metadata": {},
   "outputs": [],
   "source": []
  },
  {
   "cell_type": "code",
   "execution_count": 33,
   "id": "9a827574",
   "metadata": {},
   "outputs": [
    {
     "name": "stdout",
     "output_type": "stream",
     "text": [
      "Selamat datang di password random\n",
      "Berapa huruf yang kamu inginkan?\n",
      "2\n",
      "Berapa angka yang kamu inginkan?\n",
      "2\n",
      "Berapa simbol yang kamu inginkan?\n",
      "2\n",
      "Password acakmu: N6Z91G\n"
     ]
    }
   ],
   "source": [
    "import random\n",
    "\n",
    "# BAHAN - BAHAN\n",
    "huruf = ['A', 'B', 'C', 'D', 'E', 'F', 'G', 'H', 'I', 'J', \n",
    "        'K', 'L', 'M', 'N', 'O', 'P', 'Q', 'R', 'S', 'T', 'U', 'V', 'W', 'X', 'Y', 'Z']\n",
    "angka = [0, 1, 2, 3, 4, 5, 6, 7, 8, 9]\n",
    "simbol = ['!', '@', '#', '$', '%']\n",
    "\n",
    "print(\"Selamat datang di password random\")\n",
    "jumlah_huruf = int(input(\"Berapa huruf yang kamu inginkan?\\n\"))\n",
    "jumlah_angka = int(input(\"Berapa angka yang kamu inginkan?\\n\"))\n",
    "jumlah_simbol = int(input(\"Berapa simbol yang kamu inginkan?\\n\"))\n",
    "\n",
    "# Menggabungkan semua bahan (huruf, angka, simbol)\n",
    "bahan = huruf + angka + simbol\n",
    "random.shuffle(bahan)\n",
    "\n",
    "# Mengambil sejumlah karakter sesuai permintaan pengguna\n",
    "password_list = random.sample(bahan, jumlah_huruf + jumlah_angka + jumlah_simbol)\n",
    "\n",
    "# Mengonversi list menjadi string\n",
    "password = ''.join(map(str, password_list))\n",
    "\n",
    "print(\"Password acakmu:\", password)\n"
   ]
  },
  {
   "cell_type": "code",
   "execution_count": 36,
   "id": "ba734e61",
   "metadata": {},
   "outputs": [
    {
     "name": "stdout",
     "output_type": "stream",
     "text": [
      "bobi\n"
     ]
    }
   ],
   "source": [
    "#GABUNGIN\n",
    "\n",
    "nama = \"\"\n",
    "gabungan = \"\".join(map(str, \"bobi\"))\n",
    "print(gabungan)"
   ]
  },
  {
   "cell_type": "code",
   "execution_count": 37,
   "id": "a13030e7",
   "metadata": {},
   "outputs": [
    {
     "name": "stdout",
     "output_type": "stream",
     "text": [
      "[1, 2, 3, 4, 'a', 'b', 'c']\n"
     ]
    }
   ],
   "source": [
    "angka = [1,2,3,4]\n",
    "huruf = [\"a\",\"b\",\"c\"]\n",
    "gabungan = angka + huruf\n",
    "print(gabungan)"
   ]
  },
  {
   "cell_type": "markdown",
   "id": "04e931d5",
   "metadata": {},
   "source": [
    "# Hari 6"
   ]
  },
  {
   "cell_type": "markdown",
   "id": "12b387d1",
   "metadata": {},
   "source": [
    "fuction, code blocks, while loops"
   ]
  },
  {
   "cell_type": "markdown",
   "id": "37737c44",
   "metadata": {},
   "source": [
    "A\n",
    "abs()\n",
    "aiter()\n",
    "all()\n",
    "anext()\n",
    "any()\n",
    "ascii()\n",
    "\n",
    "B\n",
    "bin()\n",
    "bool()\n",
    "breakpoint()\n",
    "bytearray()\n",
    "bytes()\n",
    "\n",
    "C\n",
    "callable()\n",
    "chr()\n",
    "classmethod()\n",
    "compile()\n",
    "complex()\n",
    "\n",
    "D\n",
    "delattr()\n",
    "dict()\n",
    "dir()\n",
    "divmod()\n",
    "\n",
    "E\n",
    "enumerate()\n",
    "eval()\n",
    "exec()\n",
    "\n",
    "F\n",
    "filter()\n",
    "float()\n",
    "format()\n",
    "frozenset()\n",
    "\n",
    "G\n",
    "getattr()\n",
    "globals()\n",
    "\n",
    "H\n",
    "hasattr()\n",
    "hash()\n",
    "help()\n",
    "hex()\n",
    "\n",
    "I\n",
    "id()\n",
    "input()\n",
    "int()\n",
    "isinstance()\n",
    "issubclass()\n",
    "iter()\n",
    "L\n",
    "len()\n",
    "list()\n",
    "locals()\n",
    "\n",
    "M\n",
    "map()\n",
    "max()\n",
    "memoryview()\n",
    "min()\n",
    "\n",
    "N\n",
    "next()\n",
    "\n",
    "O\n",
    "object()\n",
    "oct()\n",
    "open()\n",
    "ord()\n",
    "\n",
    "P\n",
    "pow()\n",
    "print()\n",
    "property()\n",
    "\n",
    "\n",
    "\n",
    "\n",
    "R\n",
    "range()\n",
    "repr()\n",
    "reversed()\n",
    "round()\n",
    "\n",
    "S\n",
    "set()\n",
    "setattr()\n",
    "slice()\n",
    "sorted()\n",
    "staticmethod()\n",
    "str()\n",
    "sum()\n",
    "super()\n",
    "\n",
    "T\n",
    "tuple()\n",
    "type()\n",
    "\n",
    "V\n",
    "vars()\n",
    "\n",
    "Z\n",
    "zip()\n",
    "\n",
    "_\n",
    "__import__()\n"
   ]
  },
  {
   "cell_type": "code",
   "execution_count": 5,
   "id": "6cea8e7d",
   "metadata": {},
   "outputs": [
    {
     "name": "stdout",
     "output_type": "stream",
     "text": [
      "5\n"
     ]
    },
    {
     "data": {
      "text/plain": [
       "str"
      ]
     },
     "execution_count": 5,
     "metadata": {},
     "output_type": "execute_result"
    }
   ],
   "source": [
    "# Belajar len\n",
    "num_huruf = len(\"huruf\")\n",
    "print(str(num_huruf))\n",
    "type(num_huruf)\n",
    "type(str(num_huruf))"
   ]
  },
  {
   "cell_type": "code",
   "execution_count": 12,
   "id": "39d57150",
   "metadata": {},
   "outputs": [
    {
     "name": "stdout",
     "output_type": "stream",
     "text": [
      "nandang\n",
      "Hello\n"
     ]
    }
   ],
   "source": [
    "#Menggunakan def\n",
    "\n",
    "def my_function():\n",
    "    print(\"nandang\")\n",
    "    print(\"Hello\")\n",
    "    \n",
    "my_function()"
   ]
  },
  {
   "cell_type": "raw",
   "id": "5f2a9f30",
   "metadata": {},
   "source": [
    "#BIKIN \n",
    "def tamat(jumlah_langkah):\n",
    "    for _ in range(jumlah_langkah):\n",
    "        move()\n",
    "        turn_left()\n",
    "        move()\n",
    "        turn_right()\n",
    "        move()\n",
    "        turn_right()\n",
    "        move()\n",
    "        turn_left()\n",
    "\n",
    "tamat(6)"
   ]
  },
  {
   "cell_type": "code",
   "execution_count": 16,
   "id": "4ea60708",
   "metadata": {},
   "outputs": [
    {
     "name": "stdout",
     "output_type": "stream",
     "text": [
      "Apakah Anda ingin memeriksa rentang angka? (y/n): y\n",
      "Masukkan sebuah angka: 10\n",
      "10 tidak berada dalam rentang dari 1 hingga 9\n"
     ]
    }
   ],
   "source": [
    "def cek_rentang():\n",
    "    pilihan = input(\"Apakah Anda ingin memeriksa rentang angka? (y/n): \")\n",
    "    \n",
    "    if pilihan.lower() == \"y\":\n",
    "        angka = int(input(\"Masukkan sebuah angka: \"))\n",
    "        if angka in range(1, 10):\n",
    "            print(f\"{angka} berada dalam rentang dari 1 hingga 9\")\n",
    "        else:\n",
    "            print(f\"{angka} tidak berada dalam rentang dari 1 hingga 9\")\n",
    "    else:\n",
    "        print(\"Terima kasih! Sampai jumpa.\")\n",
    "\n",
    "# Memanggil fungsi untuk memulai pengecekan rentang\n",
    "cek_rentang()\n"
   ]
  },
  {
   "cell_type": "code",
   "execution_count": 1,
   "id": "38385788",
   "metadata": {},
   "outputs": [
    {
     "name": "stdout",
     "output_type": "stream",
     "text": [
      "0\n",
      "1\n",
      "2\n",
      "3\n",
      "4\n"
     ]
    }
   ],
   "source": [
    "i = 0\n",
    "while i < 5:\n",
    "    print(i)\n",
    "    i += 1"
   ]
  },
  {
   "cell_type": "code",
   "execution_count": 6,
   "id": "4befb53c",
   "metadata": {},
   "outputs": [
    {
     "name": "stdout",
     "output_type": "stream",
     "text": [
      "Tebak angka antara 1 dan 20: 10\n",
      "Tebakan terlalu rendah. Coba lagi.\n",
      "Tebak angka antara 1 dan 20: 20\n",
      "Tebakan terlalu tinggi. Coba lagi.\n",
      "Tebak angka antara 1 dan 20: 18\n",
      "Tebakan terlalu tinggi. Coba lagi.\n",
      "Tebak angka antara 1 dan 20: 17\n",
      "Tebakan terlalu tinggi. Coba lagi.\n",
      "Tebak angka antara 1 dan 20: 14\n",
      "Tebakan terlalu rendah. Coba lagi.\n",
      "Tebak angka antara 1 dan 20: 15\n",
      "Tebakan terlalu rendah. Coba lagi.\n",
      "Tebak angka antara 1 dan 20: 16\n",
      "Selamat! Anda menebak dengan benar.\n"
     ]
    }
   ],
   "source": [
    "import random\n",
    "\n",
    "# Memilih angka secara acak antara 1 dan 20\n",
    "angka_rahasia = random.randint(1, 20)\n",
    "tebakan_benar = False\n",
    "\n",
    "while not tebakan_benar:\n",
    "    tebakan = int(input(\"Tebak angka antara 1 dan 20: \"))\n",
    "    if tebakan == angka_rahasia:\n",
    "        print(\"Selamat! Anda menebak dengan benar.\")\n",
    "        tebakan_benar = True\n",
    "    elif tebakan < angka_rahasia:\n",
    "        print(\"Tebakan terlalu rendah. Coba lagi.\")\n",
    "    else:\n",
    "        print(\"Tebakan terlalu tinggi. Coba lagi.\")\n"
   ]
  },
  {
   "cell_type": "raw",
   "id": "6750a0d6",
   "metadata": {},
   "source": [
    "for dipake kalo tau berapa nya\n",
    "kalo while harus ada batasan\n",
    "while not bakal behenti jika udh true"
   ]
  },
  {
   "cell_type": "markdown",
   "id": "503a76c8",
   "metadata": {},
   "source": [
    "# HARI 7"
   ]
  },
  {
   "cell_type": "markdown",
   "id": "ea2e00c3",
   "metadata": {},
   "source": [
    "HANGMAN Project"
   ]
  },
  {
   "cell_type": "raw",
   "id": "963827ce",
   "metadata": {},
   "source": [
    "Buat game dengan menggunakan input, for while, if dan else"
   ]
  },
  {
   "cell_type": "code",
   "execution_count": 1,
   "id": "55064213",
   "metadata": {},
   "outputs": [],
   "source": [
    "import random\n",
    "\n",
    "#buat kosa kata yang mau dimainin\n",
    "list_kata = [\"babi\", \"sapi\", \"kambing\", \"kucing\", \"kerbau\"]"
   ]
  },
  {
   "cell_type": "code",
   "execution_count": 4,
   "id": "2da3ad0f",
   "metadata": {},
   "outputs": [
    {
     "data": {
      "text/plain": [
       "'kucing'"
      ]
     },
     "execution_count": 4,
     "metadata": {},
     "output_type": "execute_result"
    }
   ],
   "source": [
    "#BIKIN dulu yg muncul \n",
    "kata_muncul = random.choice(list_kata)\n",
    "kata_muncul"
   ]
  },
  {
   "cell_type": "code",
   "execution_count": 45,
   "id": "4ba29f3c",
   "metadata": {},
   "outputs": [
    {
     "name": "stdout",
     "output_type": "stream",
     "text": [
      "kata yang muncul adalah kucing\n",
      "['_', '_', '_', '_', '_', '_']\n",
      "tebak? k\n",
      "['k', '_', '_', '_', '_', '_']\n",
      "tebak? u\n",
      "['k', 'u', '_', '_', '_', '_']\n",
      "tebak? c\n",
      "['k', 'u', 'c', '_', '_', '_']\n",
      "tebak? i\n",
      "['k', 'u', 'c', 'i', '_', '_']\n",
      "tebak? n\n",
      "['k', 'u', 'c', 'i', 'n', '_']\n",
      "tebak? g\n",
      "['k', 'u', 'c', 'i', 'n', 'g']\n",
      "Tebakan benar!\n"
     ]
    }
   ],
   "source": [
    "import random\n",
    "\n",
    "list_kata = [\"babi\", \"sapi\", \"kambing\", \"kucing\", \"kerbau\"]\n",
    "\n",
    "kata_muncul = random.choice(list_kata)\n",
    "print(f\"kata yang muncul adalah {kata_muncul}\")\n",
    "\n",
    "display = ['_' for _ in kata_muncul]  # Cara lebih singkat untuk menginisialisasi list '_' sepanjang kata_muncul\n",
    "print(display)\n",
    "\n",
    "tebakan = input(\"tebak? \").lower()\n",
    "\n",
    "while True:  # Menggunakan loop tanpa kondisi berakhir karena kondisi berakhirnya akan diatur di dalam loop\n",
    "    for posisi in range(len(kata_muncul)):\n",
    "        kata = kata_muncul[posisi]\n",
    "        if kata == tebakan:\n",
    "            display[posisi] = kata\n",
    "            tebakan_benar = True\n",
    "            \n",
    "    if not tebakan_benar:\n",
    "        print(\"salah\")  # Memberikan umpan balik hanya ketika tebakan salah\n",
    "\n",
    "    print(display)\n",
    "\n",
    "    # Periksa apakah semua huruf sudah ditebak dengan benar\n",
    "    if \"_\" not in display:\n",
    "        print(\"Tebakan benar!\")\n",
    "        break  # Berhenti jika semua huruf sudah ditebak dengan benar\n",
    "\n",
    "    tebakan = input(\"tebak? \").lower()  # Ambil tebakan baru dari pengguna untuk iterasi selanjutnya\n"
   ]
  },
  {
   "cell_type": "code",
   "execution_count": 46,
   "id": "de530866",
   "metadata": {},
   "outputs": [
    {
     "name": "stdout",
     "output_type": "stream",
     "text": [
      "2 adalah bilangan prima\n",
      "3 adalah bilangan prima\n",
      "5 adalah bilangan prima\n",
      "7 adalah bilangan prima\n",
      "11 adalah bilangan prima\n",
      "13 adalah bilangan prima\n",
      "17 adalah bilangan prima\n",
      "19 adalah bilangan prima\n"
     ]
    }
   ],
   "source": [
    "# Contoh: Menampilkan bilangan prima dari 1 hingga 20 menggunakan while not, if, dan break\n",
    "\n",
    "num = 2\n",
    "while not (num > 20):\n",
    "    is_prime = True\n",
    "    for i in range(2, num):\n",
    "        if num % i == 0:\n",
    "            is_prime = False\n",
    "            break\n",
    "    if is_prime:\n",
    "        print(num, \"adalah bilangan prima\")\n",
    "    num += 1\n"
   ]
  },
  {
   "cell_type": "code",
   "execution_count": 54,
   "id": "51e2b32d",
   "metadata": {},
   "outputs": [
    {
     "name": "stdout",
     "output_type": "stream",
     "text": [
      "1 adalah bilangan ganjil\n",
      "3 adalah bilangan ganjil\n",
      "5 adalah bilangan ganjil\n",
      "7 adalah bilangan ganjil\n",
      "9 adalah bilangan ganjil\n",
      "11 adalah bilangan ganjil\n",
      "13 adalah bilangan ganjil\n",
      "15 adalah bilangan ganjil\n",
      "17 adalah bilangan ganjil\n",
      "19 adalah bilangan ganjil\n"
     ]
    }
   ],
   "source": [
    "angka = 1\n",
    "while not (angka > 20):\n",
    "    if angka % 2 != 0:  # Memeriksa apakah angka ganjil\n",
    "        print(angka, \"adalah bilangan ganjil\")\n",
    "    angka += 1"
   ]
  },
  {
   "cell_type": "code",
   "execution_count": 1,
   "id": "88679540",
   "metadata": {},
   "outputs": [
    {
     "name": "stdout",
     "output_type": "stream",
     "text": [
      "0b1010\n"
     ]
    }
   ],
   "source": [
    "ten = 10\n",
    "bin_ten = bin(ten)\n",
    "print(bin_ten)"
   ]
  },
  {
   "cell_type": "code",
   "execution_count": 7,
   "id": "f0cc5ffe",
   "metadata": {},
   "outputs": [
    {
     "name": "stdout",
     "output_type": "stream",
     "text": [
      "0b10100\n"
     ]
    }
   ],
   "source": [
    "one = 20\n",
    "bin_one = bin(one)\n",
    "print(bin_one)"
   ]
  },
  {
   "cell_type": "code",
   "execution_count": 8,
   "id": "02af8660",
   "metadata": {},
   "outputs": [
    {
     "name": "stdout",
     "output_type": "stream",
     "text": [
      "True\n"
     ]
    }
   ],
   "source": [
    "value = 7\n",
    "is_false = bool(value)\n",
    "print(is_false)"
   ]
  },
  {
   "cell_type": "code",
   "execution_count": 10,
   "id": "6ce31e09",
   "metadata": {},
   "outputs": [
    {
     "name": "stdout",
     "output_type": "stream",
     "text": [
      "False\n"
     ]
    }
   ],
   "source": [
    "b = 7 < 3\n",
    "is_false = bool(b)\n",
    "print(is_false)"
   ]
  },
  {
   "cell_type": "code",
   "execution_count": 11,
   "id": "392a8836",
   "metadata": {},
   "outputs": [
    {
     "name": "stdout",
     "output_type": "stream",
     "text": [
      "bytearray(b'bobi')\n"
     ]
    }
   ],
   "source": [
    "kata = 'bobi'\n",
    "byte_array = bytearray(kata, 'utf-8')\n",
    "print(byte_array)\n"
   ]
  },
  {
   "cell_type": "code",
   "execution_count": 25,
   "id": "5810e6dd",
   "metadata": {},
   "outputs": [
    {
     "name": "stdout",
     "output_type": "stream",
     "text": [
      "bytearray(b'\\x00\\x00\\x00\\x00\\x00\\x00\\x00\\x00\\x00\\x00\\x00\\x00\\x00\\x00\\x00\\x00\\x00\\x00\\x00\\x00\\x00\\x00')\n"
     ]
    }
   ],
   "source": [
    "angka1 = 22\n",
    "angka_bytearray = bytearray(angka1)\n",
    "print(angka_bytearray)"
   ]
  },
  {
   "cell_type": "markdown",
   "id": "cf9f2ca4",
   "metadata": {},
   "source": [
    "# Hari 8"
   ]
  },
  {
   "cell_type": "markdown",
   "id": "7b82e351",
   "metadata": {},
   "source": [
    "Function with inputs arguments dan parameter"
   ]
  },
  {
   "cell_type": "code",
   "execution_count": 11,
   "id": "312c9530",
   "metadata": {},
   "outputs": [],
   "source": [
    "def panggilan_mamay():\n",
    "    number = 0\n",
    "    while number <10:\n",
    "        print(\"hai mamay\")\n",
    "        number += 1\n",
    "        \n"
   ]
  },
  {
   "cell_type": "code",
   "execution_count": 12,
   "id": "36759a6b",
   "metadata": {},
   "outputs": [
    {
     "name": "stdout",
     "output_type": "stream",
     "text": [
      "hai mamay\n",
      "hai mamay\n",
      "hai mamay\n",
      "hai mamay\n",
      "hai mamay\n",
      "hai mamay\n",
      "hai mamay\n",
      "hai mamay\n",
      "hai mamay\n",
      "hai mamay\n"
     ]
    }
   ],
   "source": [
    "panggilan_mamay()"
   ]
  },
  {
   "cell_type": "code",
   "execution_count": 14,
   "id": "f8a880c3",
   "metadata": {},
   "outputs": [],
   "source": [
    "def cek_angka_prim():\n",
    "    num = 2\n",
    "    while not (num > 20):\n",
    "        is_prime = True\n",
    "        for i in range(2, num):\n",
    "            if num % i == 0:\n",
    "                is_prime = False\n",
    "                break\n",
    "        if is_prime:\n",
    "            print(num, \"adalah bilangan prima\")\n",
    "        num += 1"
   ]
  },
  {
   "cell_type": "code",
   "execution_count": 15,
   "id": "b6a141c4",
   "metadata": {},
   "outputs": [
    {
     "name": "stdout",
     "output_type": "stream",
     "text": [
      "2 adalah bilangan prima\n",
      "3 adalah bilangan prima\n",
      "5 adalah bilangan prima\n",
      "7 adalah bilangan prima\n",
      "11 adalah bilangan prima\n",
      "13 adalah bilangan prima\n",
      "17 adalah bilangan prima\n",
      "19 adalah bilangan prima\n"
     ]
    }
   ],
   "source": [
    "cek_angka_prim()"
   ]
  },
  {
   "cell_type": "code",
   "execution_count": 29,
   "id": "9931922e",
   "metadata": {},
   "outputs": [
    {
     "name": "stdout",
     "output_type": "stream",
     "text": [
      "Hai siapa nama lu Bobi\n",
      "Dimana rumahnya Bobi\n",
      "----------\n",
      "Hai siapa nama lu Nandang\n",
      "Dimana rumahnya Nandang\n",
      "----------\n",
      "<function perkenalan at 0x00000150759E5760>\n"
     ]
    }
   ],
   "source": [
    "#Function dengan tambahan \n",
    "\n",
    "def perkenalan(name):\n",
    "    print(f\"Hai siapa nama lu {name}\")\n",
    "    print(f\"Dimana rumahnya {name}\")\n",
    "\n",
    "names = [\"Bobi\", \"Nandang\"]\n",
    "for name in names:\n",
    "    perkenalan(name)\n",
    "    print(\"----------\")\n",
    "    \n",
    "print(perkenalan)\n",
    " "
   ]
  },
  {
   "cell_type": "code",
   "execution_count": 30,
   "id": "3037751c",
   "metadata": {},
   "outputs": [
    {
     "name": "stdout",
     "output_type": "stream",
     "text": [
      "sayangku mayla\n",
      "sayangku marsya\n"
     ]
    }
   ],
   "source": [
    "#function beragam\n",
    "\n",
    "def sayangku(name, nama):\n",
    "    print(f\"sayangku {name}\")\n",
    "    print(f\"sayangku {nama}\")\n",
    "    \n",
    "sayangku(\"mayla\", \"marsya\")"
   ]
  },
  {
   "cell_type": "code",
   "execution_count": 32,
   "id": "615a5864",
   "metadata": {},
   "outputs": [
    {
     "name": "stdout",
     "output_type": "stream",
     "text": [
      "sayangku marsya\n",
      "sayangkuuuu mayla\n"
     ]
    }
   ],
   "source": [
    "#function beragam kalo pake argumennya dia ikutin\n",
    "\n",
    "def sayangku(name, nama):\n",
    "    print(f\"sayangku {name}\")\n",
    "    print(f\"sayangkuuuu {nama}\")\n",
    "    \n",
    "sayangku(nama = \"mayla\", name = \"marsya\")"
   ]
  },
  {
   "cell_type": "code",
   "execution_count": 48,
   "id": "fe066fef",
   "metadata": {},
   "outputs": [
    {
     "name": "stdout",
     "output_type": "stream",
     "text": [
      "Enter the height of the wall (m): 1\n",
      "Enter the width of the wall (m): 1\n",
      "You'll need 1 cans of paint.\n"
     ]
    }
   ],
   "source": [
    "import math\n",
    "\n",
    "coverage = 5\n",
    "\n",
    "def paint_calc(height, width, cover):\n",
    "    paint_needed = math.ceil((height * width) / cover)\n",
    "    return paint_needed\n",
    "\n",
    "\n",
    "test_h = int(input(\"Enter the height of the wall (m): \"))  # Height of wall (m)\n",
    "test_w = int(input(\"Enter the width of the wall (m): \"))  # Width of wall (m)\n",
    "\n",
    "required_paint = paint_calc(height=test_h, width=test_w, cover=coverage) #ini sebenernya bagian dari def\n",
    "print(f\"You'll need {required_paint} cans of paint.\")\n"
   ]
  },
  {
   "cell_type": "code",
   "execution_count": 41,
   "id": "420a63d5",
   "metadata": {},
   "outputs": [
    {
     "name": "stdout",
     "output_type": "stream",
     "text": [
      "8\n"
     ]
    }
   ],
   "source": [
    "import math\n",
    "\n",
    "angka = 7.25\n",
    "bulat_ke_atas = math.ceil(angka)\n",
    "print(bulat_ke_atas)  # Output: 8\n"
   ]
  },
  {
   "cell_type": "code",
   "execution_count": 56,
   "id": "aa33d4b8",
   "metadata": {},
   "outputs": [
    {
     "name": "stdout",
     "output_type": "stream",
     "text": [
      "Masukan angka3\n",
      "itu bukan genap\n"
     ]
    }
   ],
   "source": [
    "#cek apakah suatu angka termasuk bilangan prima\n",
    "angka = int(input(\"Masukan angka\"))\n",
    "\n",
    "def check_genap(angka):\n",
    "    if angka %2 == 0:\n",
    "        print(\"ini bilangan genap\")\n",
    "    else:\n",
    "        print(\"itu bukan genap\")\n",
    "        \n",
    "        \n",
    "check_prima(angka)"
   ]
  },
  {
   "cell_type": "code",
   "execution_count": 73,
   "id": "a53911b6",
   "metadata": {},
   "outputs": [
    {
     "name": "stdout",
     "output_type": "stream",
     "text": [
      "masukan angka \n",
      "9\n",
      "bukan prima\n"
     ]
    }
   ],
   "source": [
    "def check_prima(number):\n",
    "    prima = True\n",
    "    for i in range(2, number):\n",
    "        if number % i == 0:\n",
    "            prima = False\n",
    "    if prima:\n",
    "        print(\"adalah bilangan prima\")\n",
    "    else:\n",
    "        print(\"bukan prima\")\n",
    "\n",
    "n = int(input(\"masukan angka \\n\"))\n",
    "check_prima(number = n)"
   ]
  },
  {
   "cell_type": "code",
   "execution_count": 80,
   "id": "b68c04b6",
   "metadata": {},
   "outputs": [
    {
     "name": "stdout",
     "output_type": "stream",
     "text": [
      "Masukkan angka: 13\n",
      "Langkah 1: Memeriksa apakah 13 habis dibagi 2\n",
      "Langkah 2: Memeriksa apakah 13 habis dibagi 3\n",
      "Langkah 3: Memeriksa apakah 13 habis dibagi 4\n",
      "Langkah 4: Memeriksa apakah 13 habis dibagi 5\n",
      "Langkah 5: Memeriksa apakah 13 habis dibagi 6\n",
      "Langkah 6: Memeriksa apakah 13 habis dibagi 7\n",
      "Langkah 7: Memeriksa apakah 13 habis dibagi 8\n",
      "Langkah 8: Memeriksa apakah 13 habis dibagi 9\n",
      "Langkah 9: Memeriksa apakah 13 habis dibagi 10\n",
      "Langkah 10: Memeriksa apakah 13 habis dibagi 11\n",
      "Langkah 11: Memeriksa apakah 13 habis dibagi 12\n",
      "13 adalah bilangan prima\n"
     ]
    }
   ],
   "source": [
    "def check_prima(number):\n",
    "    prima = True\n",
    "    for i in range(2, number):\n",
    "        print(f\"Langkah {i - 1}: Memeriksa apakah {number} habis dibagi {i}\")\n",
    "        if number % i == 0:\n",
    "            prima = False\n",
    "            break\n",
    "    \n",
    "    if prima:\n",
    "        print(f\"{number} adalah bilangan prima\")\n",
    "    else:\n",
    "        print(f\"{number} bukan prima\")\n",
    "\n",
    "n = int(input(\"Masukkan angka: \"))\n",
    "check_prima(number=n)\n"
   ]
  },
  {
   "cell_type": "markdown",
   "id": "548be2cc",
   "metadata": {},
   "source": [
    "BELAJAR BUAT ENKRIPSI"
   ]
  },
  {
   "cell_type": "code",
   "execution_count": 82,
   "id": "9b8080a3",
   "metadata": {},
   "outputs": [
    {
     "name": "stdout",
     "output_type": "stream",
     "text": [
      "type code\n",
      "Baca\n",
      "pesan\n",
      "Baca\n",
      "berapa kali gerak\n",
      "5\n"
     ]
    }
   ],
   "source": [
    "alphabet = ['A', 'B', 'C', 'D', 'E', 'F', 'G', 'H', 'I', 'J', 'K', 'L', 'M', 'N', 'O', 'P', 'Q', 'R', 'S', 'T', 'U', 'V', 'W', 'X', 'Y', 'Z']\n",
    "\n",
    "direction = input(\"type code\\n\")\n",
    "text = input(\"pesan\\n\").lower()\n",
    "shift = int(input(\"berapa kali gerak\\n\"))"
   ]
  },
  {
   "cell_type": "markdown",
   "id": "816dfb67",
   "metadata": {},
   "source": [
    "# HARI 9 "
   ]
  },
  {
   "cell_type": "markdown",
   "id": "2c4f032f",
   "metadata": {},
   "source": [
    "Dictionary = {set : value} set = jenisnya value= isi. Kalo mau enak akhir data terakhir kasih koma aja"
   ]
  },
  {
   "cell_type": "code",
   "execution_count": null,
   "id": "826bf0f4",
   "metadata": {},
   "outputs": [],
   "source": [
    "#buat dictionary\n",
    "pasar = {\"buah\" :[\"pepaya\",\"mangga\",\"pisang\",\"jambu\"], \n",
    "         \"daging\": [\"ayam\", \"sapi\", \"kambing\", \"bebek\"], \n",
    "         \"sayuran\" : [\"bayem\", \"kangkung\"]\n",
    "        }"
   ]
  },
  {
   "cell_type": "code",
   "execution_count": 99,
   "id": "c098578a",
   "metadata": {},
   "outputs": [],
   "source": [
    "buah = \"buah\"\n",
    "sayur = \"sayuran\"\n",
    "daging = \"daging\"\n",
    "\n",
    "\n",
    "#buat dictionary\n",
    "pasar = {buah :[\"pepaya\",\"mangga\",\"pisang\",\"jambu\"], \n",
    "         daging : [\"ayam\", \"sapi\", \"kambing\", \"bebek\"], \n",
    "         sayur : [\"bayem\", \"kangkung\"]\n",
    "        }"
   ]
  },
  {
   "cell_type": "code",
   "execution_count": 102,
   "id": "5cdbb27e",
   "metadata": {},
   "outputs": [
    {
     "name": "stdout",
     "output_type": "stream",
     "text": [
      "['pepaya', 'mangga', 'pisang', 'jambu']\n",
      "['ayam', 'sapi', 'kambing', 'bebek']\n",
      "['bayem', 'kangkung']\n"
     ]
    }
   ],
   "source": [
    "#print per list yang ada nih jadi string\n",
    "print(pasar[\"buah\"])\n",
    "print(pasar[\"daging\"])\n",
    "print(pasar[\"sayuran\"])"
   ]
  },
  {
   "cell_type": "code",
   "execution_count": 104,
   "id": "97dc8869",
   "metadata": {},
   "outputs": [
    {
     "name": "stdout",
     "output_type": "stream",
     "text": [
      "['pepaya', 'mangga', 'pisang', 'jambu']\n",
      "['ayam', 'sapi', 'kambing', 'bebek']\n",
      "['bayem', 'kangkung']\n"
     ]
    }
   ],
   "source": [
    "#print per list yang ada nih dah di definisiin\n",
    "print(pasar[buah])\n",
    "print(pasar[daging])\n",
    "print(pasar[sayur])"
   ]
  },
  {
   "cell_type": "code",
   "execution_count": 95,
   "id": "9e76ee3a",
   "metadata": {},
   "outputs": [
    {
     "name": "stdout",
     "output_type": "stream",
     "text": [
      "pepaya\n",
      "---Jeda antar item---\n",
      "mangga\n"
     ]
    }
   ],
   "source": [
    "#cetak per item\n",
    "#item 1\n",
    "buah_per_item = pasar.get(\"buah\")\n",
    "if buah_per_item:  # Memeriksa apakah list \"buah\" ada dan tidak kosong\n",
    "    print(buah_per_item[0])\n",
    "else:\n",
    "    print(\"List 'buah' kosong atau kunci 'buah' tidak ada dalam kamus pasar.\")\n",
    "\n",
    "    \n",
    "print(\"---Jeda antar item---\")\n",
    "\n",
    "#item 2\n",
    "buah_per_item = pasar.get(\"buah\")\n",
    "if buah_per_item:  # Memeriksa apakah list \"buah\" ada dan tidak kosong\n",
    "    print(buah_per_item[1])\n",
    "else:\n",
    "    print(\"List 'buah' kosong atau kunci 'buah' tidak ada dalam kamus pasar.\")\n",
    "    \n",
    "\n"
   ]
  },
  {
   "cell_type": "code",
   "execution_count": 106,
   "id": "27318b49",
   "metadata": {},
   "outputs": [],
   "source": [
    "#tambagin dictionary\n",
    "orang = \"orang - orang yang ada di pasar\"\n",
    "pasar[orang] = [\"pedagang\",\"tukang parkir\"]"
   ]
  },
  {
   "cell_type": "code",
   "execution_count": 108,
   "id": "d8da0e7b",
   "metadata": {},
   "outputs": [
    {
     "data": {
      "text/plain": [
       "{'buah': ['pepaya', 'mangga', 'pisang', 'jambu'],\n",
       " 'daging': ['ayam', 'sapi', 'kambing', 'bebek'],\n",
       " 'sayuran': ['bayem', 'kangkung'],\n",
       " 'orang - orang yang ada di pasar': ['pedagang', 'tukang parkir']}"
      ]
     },
     "execution_count": 108,
     "metadata": {},
     "output_type": "execute_result"
    }
   ],
   "source": [
    "#Cetak yang udh di perbarui\n",
    "pasar"
   ]
  },
  {
   "cell_type": "code",
   "execution_count": 109,
   "id": "b20bba92",
   "metadata": {},
   "outputs": [
    {
     "name": "stdout",
     "output_type": "stream",
     "text": [
      "{'nama': 'John Doe', 'umur': 30, 'pekerjaan': 'Pengembang', 'alamat': {'jalan': 'Jalan Setia Budi', 'kota': 'Jakarta', 'kode_pos': '12345'}, 'hobi': ['membaca', 'bersepeda', 'menulis']}\n"
     ]
    }
   ],
   "source": [
    "# Dictionary berisi informasi tentang seseorang\n",
    "person = {\n",
    "    \"nama\": \"John Doe\",\n",
    "    \"umur\": 30,\n",
    "    \"pekerjaan\": \"Pengembang\",\n",
    "    \"alamat\": {\n",
    "        \"jalan\": \"Jalan Setia Budi\",\n",
    "        \"kota\": \"Jakarta\",\n",
    "        \"kode_pos\": \"12345\"\n",
    "    },\n",
    "    \"hobi\": [\"membaca\", \"bersepeda\", \"menulis\"]\n",
    "}\n",
    "\n",
    "print(person)\n"
   ]
  },
  {
   "cell_type": "code",
   "execution_count": 113,
   "id": "314c5996",
   "metadata": {},
   "outputs": [
    {
     "name": "stdout",
     "output_type": "stream",
     "text": [
      "{}\n"
     ]
    }
   ],
   "source": [
    "#HAPUS KESELURUHAN DICTIONARY\n",
    "person={}\n",
    "print(person)"
   ]
  },
  {
   "cell_type": "code",
   "execution_count": 114,
   "id": "1fbd1a15",
   "metadata": {},
   "outputs": [
    {
     "name": "stdout",
     "output_type": "stream",
     "text": [
      "{'nama': 'John Doe', 'umur': 30, 'pekerjaan': 'Pengembang'}\n"
     ]
    }
   ],
   "source": [
    "# Contoh penggunaan dictionary kosong:\n",
    "empty_dict = {}\n",
    "\n",
    "# Menambahkan data ke dictionary kosong\n",
    "empty_dict['nama'] = 'John Doe'\n",
    "empty_dict['umur'] = 30\n",
    "empty_dict['pekerjaan'] = 'Pengembang'\n",
    "\n",
    "print(empty_dict)  # Output: {'nama': 'John Doe', 'umur': 30, 'pekerjaan': 'Pengembang'}\n"
   ]
  },
  {
   "cell_type": "code",
   "execution_count": 120,
   "id": "f9bbd984",
   "metadata": {},
   "outputs": [
    {
     "name": "stdout",
     "output_type": "stream",
     "text": [
      "nama\n",
      "John Doe\n",
      "30\n",
      "Pengembang\n",
      "umur\n",
      "John Doe\n",
      "30\n",
      "Pengembang\n",
      "pekerjaan\n",
      "John Doe\n",
      "30\n",
      "Pengembang\n"
     ]
    }
   ],
   "source": [
    "#Ngelihat key nya dalam dictionary\n",
    "#dia bakal print sebanyak key nya\n",
    "for key in empty_dict:\n",
    "    print(key)\n",
    "    print(empty_dict[\"nama\"])\n",
    "    print(empty_dict[\"umur\"])\n",
    "    print(empty_dict[\"pekerjaan\"])"
   ]
  },
  {
   "cell_type": "code",
   "execution_count": 124,
   "id": "d0c63096",
   "metadata": {},
   "outputs": [
    {
     "name": "stdout",
     "output_type": "stream",
     "text": [
      "buah\n",
      "['pepaya', 'mangga', 'pisang', 'jambu'] <class 'list'>\n",
      "['ayam', 'sapi', 'kambing', 'bebek'] <class 'list'>\n",
      "['bayem', 'kangkung'] <class 'list'>\n",
      "['pedagang', 'tukang parkir'] <class 'list'>\n",
      "daging\n",
      "['pepaya', 'mangga', 'pisang', 'jambu'] <class 'list'>\n",
      "['ayam', 'sapi', 'kambing', 'bebek'] <class 'list'>\n",
      "['bayem', 'kangkung'] <class 'list'>\n",
      "['pedagang', 'tukang parkir'] <class 'list'>\n",
      "sayuran\n",
      "['pepaya', 'mangga', 'pisang', 'jambu'] <class 'list'>\n",
      "['ayam', 'sapi', 'kambing', 'bebek'] <class 'list'>\n",
      "['bayem', 'kangkung'] <class 'list'>\n",
      "['pedagang', 'tukang parkir'] <class 'list'>\n",
      "orang - orang yang ada di pasar\n",
      "['pepaya', 'mangga', 'pisang', 'jambu'] <class 'list'>\n",
      "['ayam', 'sapi', 'kambing', 'bebek'] <class 'list'>\n",
      "['bayem', 'kangkung'] <class 'list'>\n",
      "['pedagang', 'tukang parkir'] <class 'list'>\n"
     ]
    }
   ],
   "source": [
    "for key in pasar:\n",
    "    print(key)\n",
    "    print(pasar[buah], list)\n",
    "    print(pasar[daging], list)\n",
    "    print(pasar[sayur], list)\n",
    "    print(pasar[orang], list)"
   ]
  },
  {
   "cell_type": "code",
   "execution_count": 125,
   "id": "286bc478",
   "metadata": {},
   "outputs": [
    {
     "name": "stdout",
     "output_type": "stream",
     "text": [
      "buah: pepaya, mangga, pisang, jambu\n",
      "daging: ayam, sapi, kambing, bebek\n",
      "sayuran: bayem, kangkung\n",
      "orang - orang yang ada di pasar: pedagang, tukang parkir\n"
     ]
    }
   ],
   "source": [
    "#kalo mau per item\n",
    "for key in pasar:\n",
    "    print(key + \": \", end=\"\")\n",
    "    if isinstance(pasar[key], list):\n",
    "        print(\", \".join(pasar[key]))\n",
    "    else:\n",
    "        print(pasar[key])"
   ]
  },
  {
   "cell_type": "markdown",
   "id": "985814f4",
   "metadata": {},
   "source": [
    "Dalam contoh sebelumnya yang saya berikan terkait dengan cetak nilai dalam dictionary pasar, isinstance() digunakan untuk memeriksa apakah nilai dari setiap kunci adalah list atau bukan. Jika nilai tersebut adalah list, maka elemen-elemen dari list tersebut akan dicetak dengan menggunakan metode join() agar tercetak secara rapi. Jika bukan list, nilai tersebut akan dicetak langsung tanpa perlu dipisahkan."
   ]
  },
  {
   "cell_type": "markdown",
   "id": "79f5af9c",
   "metadata": {},
   "source": [
    "# SOAL EXERCISE 22"
   ]
  },
  {
   "cell_type": "raw",
   "id": "b2f421d8",
   "metadata": {},
   "source": [
    "You have access to a database of student_scores in the format of a dictionary. The keys in student_scores are the names of the students and the values are their exam scores.\n",
    "\n",
    "Write a program that converts their scores to grades. By the end of your program, you should have a new dictionary called student_grades that should contain student names for keys and their grades for values.\n",
    "\n",
    "The final version of the student_grades dictionary will be checked.\n",
    "\n",
    "DO NOT modify lines 1-7 to change the existing student_scores dictionary.\n",
    "\n",
    "DO NOT write any print statements.\n",
    "\n",
    "This is the scoring criteria:\n",
    "\n",
    "Scores 91 - 100: Grade = \"Outstanding\"\n",
    "\n",
    "Scores 81 - 90: Grade = \"Exceeds Expectations\"\n",
    "\n",
    "Scores 71 - 80: Grade = \"Acceptable\"\n",
    "\n",
    "Scores 70 or lower: Grade = \"Fail\"\n",
    "\n",
    "Expected Output\n",
    "'{'Harry': 'Exceeds Expectations', 'Ron': 'Acceptable', 'Hermione': 'Outstanding', 'Draco': 'Acceptable', 'Neville': 'Fail'}'\n",
    "Hint\n",
    "Remember that looping through a Dictionary will only give you the keys and not the values.\n",
    "\n",
    "If in doubt as to why your code is not doing what you expected, you can always print out the intermediate values.\n",
    "\n",
    "At the end of your program, the print statement will show the final student_scores dictionary, do not change this."
   ]
  },
  {
   "cell_type": "code",
   "execution_count": 144,
   "id": "0fcf8ac5",
   "metadata": {},
   "outputs": [
    {
     "name": "stdout",
     "output_type": "stream",
     "text": [
      "{'Harry': 'Exceeds Expectations', 'Ron': 'Acceptable', 'Hermione': 'Outstanding', 'Draco': 'Acceptable', 'Neville': 'Fail'}\n"
     ]
    }
   ],
   "source": [
    "data = {\n",
    "  \"Harry\": 81,\n",
    "  \"Ron\": 78,\n",
    "  \"Hermione\": 99, \n",
    "  \"Draco\": 74,\n",
    "  \"Neville\": 62,\n",
    "}\n",
    "\n",
    "kategori = {\n",
    "    \"Outstanding\": range(91, 101),\n",
    "    \"Exceeds Expectations\": range(81, 91),\n",
    "    \"Acceptable\": range(71, 81),\n",
    "    \"Fail\": range(0, 71),\n",
    "}\n",
    "\n",
    "# Ubah nilai int menjadi kategorikal\n",
    "for nama, nilai in data.items():\n",
    "    for kategori_key, rentang in kategori.items():\n",
    "        if nilai in rentang:\n",
    "            data[nama] = kategori_key\n",
    "            break\n",
    "    else:\n",
    "        data[nama] = \"Tidak ada kategori\"\n",
    "\n",
    "print(data)"
   ]
  },
  {
   "cell_type": "markdown",
   "id": "d1a03ead",
   "metadata": {},
   "source": [
    "Iterasi pertama dilakukan menggunakan for nama, nilai in data.items():, yang mengizinkan kita untuk mengakses setiap nama siswa dan nilai numeriknya.\n",
    "Iterasi kedua dilakukan menggunakan for kategori_key, rentang in kategori.items():, yang memungkinkan kita untuk mengakses setiap kategori dan rentang nilai numeriknya dalam dictionary kategori.\n",
    "Setiap nilai dalam data dicek untuk mengetahui apakah ada dalam rentang kategori tertentu yang didefinisikan dalam kategori.\n",
    "Jika nilai ditemukan dalam rentang kategori, nilai tersebut diubah menjadi nama kategori menggunakan data[nama] = kategori_key dan loop dihentikan dengan break.\n",
    "Jika nilai tidak ditemukan dalam semua rentang kategori, nilai diubah menjadi \"Tidak ada kategori\"."
   ]
  },
  {
   "cell_type": "markdown",
   "id": "ffd59a4c",
   "metadata": {},
   "source": [
    "# DICTIONARY DALAM DICTIONARY LAIN"
   ]
  },
  {
   "cell_type": "code",
   "execution_count": 146,
   "id": "a1e38864",
   "metadata": {},
   "outputs": [],
   "source": [
    "kota = {\n",
    "    \"Indonesia\" : \"bandung\",\n",
    "    \"Malaysia\" : [\"johor\", \"kota baru\"]\n",
    "    \n",
    "}"
   ]
  },
  {
   "cell_type": "code",
   "execution_count": 1,
   "id": "f66b9751",
   "metadata": {},
   "outputs": [],
   "source": [
    "travel_log = {\n",
    "    \"Germany\" :{\"kota dikunjung\" : [\"munchen\", \"berlin\"]},\n",
    "    \"Inggris\" : \"London\"\n",
    " \n",
    "}"
   ]
  },
  {
   "cell_type": "markdown",
   "id": "54def543",
   "metadata": {},
   "source": [
    "Nesting dictionary di dictionary"
   ]
  },
  {
   "cell_type": "code",
   "execution_count": 149,
   "id": "5fcea153",
   "metadata": {},
   "outputs": [
    {
     "name": "stdout",
     "output_type": "stream",
     "text": [
      "{'Germany': ['munchen', 'berlin'], 'Inggris': 'London', 'Indonesia': 'bandung', 'Malaysia': ['johor', 'kota baru']}\n"
     ]
    }
   ],
   "source": [
    "#masukin\n",
    "for key, value in kota.items():\n",
    "    travel_log[key] = value\n",
    "    \n",
    "print(travel_log)"
   ]
  },
  {
   "cell_type": "code",
   "execution_count": 150,
   "id": "4239eebb",
   "metadata": {},
   "outputs": [
    {
     "data": {
      "text/plain": [
       "{'Germany': ['munchen', 'berlin'],\n",
       " 'Inggris': 'London',\n",
       " 'Indonesia': 'bandung',\n",
       " 'Malaysia': ['johor', 'kota baru']}"
      ]
     },
     "execution_count": 150,
     "metadata": {},
     "output_type": "execute_result"
    }
   ],
   "source": [
    "travel_log"
   ]
  },
  {
   "cell_type": "code",
   "execution_count": 2,
   "id": "45a83ccd",
   "metadata": {},
   "outputs": [
    {
     "data": {
      "text/plain": [
       "{'Germany': {'kota dikunjung': ['munchen', 'berlin']}, 'Inggris': 'London'}"
      ]
     },
     "execution_count": 2,
     "metadata": {},
     "output_type": "execute_result"
    }
   ],
   "source": [
    "travel_log"
   ]
  },
  {
   "cell_type": "markdown",
   "id": "ca8f06de",
   "metadata": {},
   "source": [
    "nesting dictionary at list"
   ]
  },
  {
   "cell_type": "code",
   "execution_count": 4,
   "id": "a0fdcdd7",
   "metadata": {},
   "outputs": [],
   "source": [
    "list_dictionary = [\n",
    "    {'nama': 'John', \n",
    "     'usia': 30, \n",
    "     'pekerjaan': 'insinyur'},\n",
    "    \n",
    "    {'nama': 'Sarah', \n",
    "     'usia': 25, \n",
    "     'pekerjaan': 'desainer'},\n",
    "    \n",
    "    {'nama': 'Michael', \n",
    "     'usia': 35, \n",
    "     'pekerjaan': 'pengembang'}\n",
    "]\n"
   ]
  },
  {
   "cell_type": "code",
   "execution_count": 8,
   "id": "d14579da",
   "metadata": {},
   "outputs": [
    {
     "name": "stdout",
     "output_type": "stream",
     "text": [
      "{'nama': 'John', 'usia': 30, 'pekerjaan': 'insinyur'}\n"
     ]
    }
   ],
   "source": [
    "#PRINT PERTAMA\n",
    "dictionary_pertama = list_dictionary[0]\n",
    "print(dictionary_pertama)"
   ]
  },
  {
   "cell_type": "markdown",
   "id": "1c0c84dd",
   "metadata": {},
   "source": [
    "# SOAL"
   ]
  },
  {
   "cell_type": "code",
   "execution_count": 26,
   "id": "a5e99d3d",
   "metadata": {},
   "outputs": [
    {
     "name": "stdout",
     "output_type": "stream",
     "text": [
      "Brazil\n",
      "5\n",
      "[\"Sao Paulo\", \"Rio de Janeiro\"]\n",
      "I've been to Brazil 5 times.\n",
      "My favourite city was Sao Paulo.\n"
     ]
    }
   ],
   "source": [
    "#tambahin\n",
    "\n",
    "country = str(input()) # Add country name\n",
    "visits = int(input()) # Number of visits\n",
    "list_of_cities = eval(input()) # create list from formatted string\n",
    "\n",
    "travel_log = [\n",
    "  {\n",
    "    \"country\": \"France\",\n",
    "    \"visits\": 12,\n",
    "    \"cities\": [\"Paris\", \"Lille\", \"Dijon\"]\n",
    "  },\n",
    "  {\n",
    "    \"country\": \"Germany\",\n",
    "    \"visits\": 5,\n",
    "    \"cities\": [\"Berlin\", \"Hamburg\", \"Stuttgart\"]\n",
    "  },\n",
    "]\n",
    "\n",
    "data_baru = {\"country\": country, \n",
    "             \"visits\": visits, \n",
    "             \"cities\":list_of_cities}\n",
    "\n",
    "travel_log.append(data_baru)\n",
    "\n",
    "# # Do not change the code below 👇\n",
    "# add_new_country(country, visits, list_of_cities)\n",
    "\n",
    "print(f\"I've been to {travel_log[2]['country']} {travel_log[2]['visits']} times.\")\n",
    "print(f\"My favourite city was {travel_log[2]['cities'][0]}.\")"
   ]
  },
  {
   "cell_type": "code",
   "execution_count": 41,
   "id": "9398031e",
   "metadata": {},
   "outputs": [
    {
     "name": "stdout",
     "output_type": "stream",
     "text": [
      "Hamburg\n",
      "Jerman\n"
     ]
    },
    {
     "ename": "ValueError",
     "evalue": "invalid literal for int() with base 10: 'Jerman'",
     "output_type": "error",
     "traceback": [
      "\u001b[1;31m---------------------------------------------------------------------------\u001b[0m",
      "\u001b[1;31mValueError\u001b[0m                                Traceback (most recent call last)",
      "Cell \u001b[1;32mIn[41], line 11\u001b[0m\n\u001b[0;32m      7\u001b[0m     travel_log\u001b[38;5;241m.\u001b[39mappend(new_country)\n\u001b[0;32m     10\u001b[0m country \u001b[38;5;241m=\u001b[39m \u001b[38;5;28minput\u001b[39m() \u001b[38;5;66;03m# Add country name\u001b[39;00m\n\u001b[1;32m---> 11\u001b[0m visits \u001b[38;5;241m=\u001b[39m \u001b[38;5;28mint\u001b[39m(\u001b[38;5;28minput\u001b[39m()) \u001b[38;5;66;03m# Number of visits\u001b[39;00m\n\u001b[0;32m     12\u001b[0m list_of_cities \u001b[38;5;241m=\u001b[39m \u001b[38;5;28meval\u001b[39m(\u001b[38;5;28minput\u001b[39m()) \u001b[38;5;66;03m# create list from formatted string\u001b[39;00m\n\u001b[0;32m     14\u001b[0m travel_log \u001b[38;5;241m=\u001b[39m [\n\u001b[0;32m     15\u001b[0m   {\n\u001b[0;32m     16\u001b[0m     \u001b[38;5;124m\"\u001b[39m\u001b[38;5;124mcountry\u001b[39m\u001b[38;5;124m\"\u001b[39m: \u001b[38;5;124m\"\u001b[39m\u001b[38;5;124mFrance\u001b[39m\u001b[38;5;124m\"\u001b[39m,\n\u001b[1;32m   (...)\u001b[0m\n\u001b[0;32m     24\u001b[0m   },\n\u001b[0;32m     25\u001b[0m ]\n",
      "\u001b[1;31mValueError\u001b[0m: invalid literal for int() with base 10: 'Jerman'"
     ]
    }
   ],
   "source": [
    "#bisa juga pake function\n",
    "def add_new_country(country, visits, list_of_cities):\n",
    "    new_country = {}\n",
    "    new_country[\"country\"] = country\n",
    "    new_country[\"visits\"] = visits\n",
    "    new_country[\"cities\"] = list_of_cities\n",
    "    travel_log.append(new_country)\n",
    "    \n",
    "    \n",
    "country = input() # Add country name\n",
    "visits = int(input()) # Number of visits\n",
    "list_of_cities = eval(input()) # create list from formatted string\n",
    "\n",
    "travel_log = [\n",
    "  {\n",
    "    \"country\": \"France\",\n",
    "    \"visits\": 12,\n",
    "    \"cities\": [\"Paris\", \"Lille\", \"Dijon\"]\n",
    "  },\n",
    "  {\n",
    "    \"country\": \"Germany\",\n",
    "    \"visits\": 5,\n",
    "    \"cities\": [\"Berlin\", \"Hamburg\", \"Stuttgart\"]\n",
    "  },\n",
    "]\n",
    "#\n",
    "# Do not change the code below 👇\n",
    "add_new_country(country, visits, list_of_cities)\n",
    "print(f\"I've been to {travel_log[2]['country']} {travel_log[2]['visits']} times.\")\n",
    "print(f\"My favourite city was {travel_log[2]['cities'][0]}.\")"
   ]
  },
  {
   "cell_type": "code",
   "execution_count": 32,
   "id": "86e12271",
   "metadata": {},
   "outputs": [],
   "source": [
    "dict = {\n",
    "    \"a\": 1,\n",
    "    \"b\": 2,\n",
    "    \"c\": 3,\n",
    "}"
   ]
  },
  {
   "cell_type": "code",
   "execution_count": 39,
   "id": "55f49888",
   "metadata": {},
   "outputs": [
    {
     "name": "stdout",
     "output_type": "stream",
     "text": [
      "4\n",
      "{'a': 1, 'b': 2, 'c': 3, 1: 4, '1': 4}\n"
     ]
    }
   ],
   "source": [
    "bobi = dict[\"1\"] = 4\n",
    "\n",
    "print(bobi)\n",
    "print(dict)"
   ]
  },
  {
   "cell_type": "code",
   "execution_count": 46,
   "id": "22a494c5",
   "metadata": {},
   "outputs": [
    {
     "ename": "SyntaxError",
     "evalue": "Missing parentheses in call to 'print'. Did you mean print(...)? (1248817437.py, line 1)",
     "output_type": "error",
     "traceback": [
      "\u001b[1;36m  Cell \u001b[1;32mIn[46], line 1\u001b[1;36m\u001b[0m\n\u001b[1;33m    print{f\"travel_log[2]['country']\"}\u001b[0m\n\u001b[1;37m    ^\u001b[0m\n\u001b[1;31mSyntaxError\u001b[0m\u001b[1;31m:\u001b[0m Missing parentheses in call to 'print'. Did you mean print(...)?\n"
     ]
    }
   ],
   "source": [
    "print{f\"travel_log[2]['country']\"}"
   ]
  },
  {
   "cell_type": "markdown",
   "id": "1a5a80e0",
   "metadata": {},
   "source": [
    "# HARI 10"
   ]
  },
  {
   "cell_type": "raw",
   "id": "32e1e9ac",
   "metadata": {},
   "source": [
    "Function with output\n",
    "\n",
    "dengan menggunakan return"
   ]
  },
  {
   "cell_type": "code",
   "execution_count": 5,
   "id": "6881211a",
   "metadata": {},
   "outputs": [],
   "source": [
    "def kalian():\n",
    "    result = 3*2\n",
    "    return result"
   ]
  },
  {
   "cell_type": "code",
   "execution_count": 6,
   "id": "d132445a",
   "metadata": {},
   "outputs": [
    {
     "data": {
      "text/plain": [
       "6"
      ]
     },
     "execution_count": 6,
     "metadata": {},
     "output_type": "execute_result"
    }
   ],
   "source": [
    "kalian()"
   ]
  },
  {
   "cell_type": "code",
   "execution_count": 10,
   "id": "179e081f",
   "metadata": {},
   "outputs": [
    {
     "data": {
      "text/plain": [
       "'Pengaruh Mahasiswa Dan Pelajar Dalam Pendidikan'"
      ]
     },
     "execution_count": 10,
     "metadata": {},
     "output_type": "execute_result"
    }
   ],
   "source": [
    "\"pengaruh mahasiswa dan pelajar dalam pendidikan\" . title()"
   ]
  },
  {
   "cell_type": "code",
   "execution_count": 11,
   "id": "fce78b63",
   "metadata": {},
   "outputs": [
    {
     "name": "stdout",
     "output_type": "stream",
     "text": [
      "Bobi\n",
      "Nandang\n"
     ]
    }
   ],
   "source": [
    "def gedein_huruf (a_nama, z_nama):\n",
    "    print(a_nama.title())\n",
    "    print(z_nama.title())\n",
    "    \n",
    "gedein_huruf(\"bobi\",\"nandang\")\n",
    "    \n",
    "    "
   ]
  },
  {
   "cell_type": "code",
   "execution_count": 16,
   "id": "95bd4113",
   "metadata": {},
   "outputs": [
    {
     "name": "stdout",
     "output_type": "stream",
     "text": [
      "Mamay\n",
      "Mayla\n"
     ]
    }
   ],
   "source": [
    "def gedein_huruf2 (a_nama, z_nama):\n",
    "    result = a_nama.title()\n",
    "    result2 = z_nama.title()\n",
    "    print(result)\n",
    "    print(result2)\n",
    "    \n",
    "gedein_huruf2(\"mamay\",\"mayla\")"
   ]
  },
  {
   "cell_type": "code",
   "execution_count": 14,
   "id": "4b5a529f",
   "metadata": {},
   "outputs": [
    {
     "data": {
      "text/plain": [
       "('Najib', 'Muning')"
      ]
     },
     "execution_count": 14,
     "metadata": {},
     "output_type": "execute_result"
    }
   ],
   "source": [
    "def gedein_huruf3 (a_nama, z_nama):\n",
    "    result = a_nama.title()\n",
    "    result2 = z_nama.title()\n",
    "    return result,result2\n",
    "\n",
    "gedein_huruf3(\"najib\",\"muning\")"
   ]
  },
  {
   "cell_type": "code",
   "execution_count": 15,
   "id": "12f7013a",
   "metadata": {},
   "outputs": [
    {
     "data": {
      "text/plain": [
       "('Najib', 'Muning')"
      ]
     },
     "execution_count": 15,
     "metadata": {},
     "output_type": "execute_result"
    }
   ],
   "source": [
    "def gedein_huruf4 (a_nama, z_nama):\n",
    "    result = a_nama.title()\n",
    "    result2 = z_nama.title()\n",
    "    gedein = print(result,result2)\n",
    "\n",
    "gedein_huruf3(\"najib\",\"muning\")"
   ]
  },
  {
   "cell_type": "code",
   "execution_count": 26,
   "id": "d74e1c34",
   "metadata": {},
   "outputs": [
    {
     "name": "stdout",
     "output_type": "stream",
     "text": [
      "-------------------------\n",
      "yang bener jadi = Najib\n",
      "yang bener jadi = Bobi\n"
     ]
    }
   ],
   "source": [
    "def gedein_huruf4 (a_nama, z_nama):\n",
    "    print(\"-------------------------\")\n",
    "    print(f\"yang bener jadi = {a_nama.title()}\")\n",
    "    print(f\"yang bener jadi = {z_nama.title()}\")\n",
    "\n",
    "gedein_huruf4 (\"najib\",\"bobi\")\n"
   ]
  },
  {
   "cell_type": "code",
   "execution_count": 27,
   "id": "86dbf2fd",
   "metadata": {},
   "outputs": [
    {
     "name": "stdout",
     "output_type": "stream",
     "text": [
      "Siapa nama pertama= nandang\n",
      "Siapa nama kedua= bobi\n",
      "-------------------------\n",
      "yang bener jadi = Nandang\n",
      "yang bener jadi = Bobi\n",
      "None\n"
     ]
    }
   ],
   "source": [
    "print(gedein_huruf4(input(\"Siapa nama pertama= \"),input(\"Siapa nama kedua= \")))\n"
   ]
  },
  {
   "cell_type": "markdown",
   "id": "d5cce470",
   "metadata": {},
   "source": [
    "DOCSTRING"
   ]
  },
  {
   "cell_type": "code",
   "execution_count": 32,
   "id": "7b31c75b",
   "metadata": {},
   "outputs": [
    {
     "name": "stdout",
     "output_type": "stream",
     "text": [
      "None\n"
     ]
    },
    {
     "data": {
      "text/plain": [
       "'kenapa none karena dia bisa dua duanya'"
      ]
     },
     "execution_count": 32,
     "metadata": {},
     "output_type": "execute_result"
    }
   ],
   "source": [
    "def my_function(a):\n",
    "    if a < 40:\n",
    "        return\n",
    "        print(\"Terrible\")\n",
    "    if a < 80:\n",
    "        return \"Pass\"\n",
    "    else:\n",
    "        return \"Great\"\n",
    "print(my_function(20))\n",
    "\n",
    "\"\"\"kenapa none karena dia bisa dua duanya\"\"\""
   ]
  },
  {
   "cell_type": "markdown",
   "id": "d9376df5",
   "metadata": {},
   "source": [
    "# BIKIN KALKULATOR"
   ]
  },
  {
   "cell_type": "code",
   "execution_count": 4,
   "id": "64c1c077",
   "metadata": {},
   "outputs": [],
   "source": [
    "logo_kalkulator = '''\n",
    " _______________________\n",
    "|  _________________  |\n",
    "| |                 | |\n",
    "| |                 | |\n",
    "| |_________________| |\n",
    "|  ___ ___ ___   ___  |\n",
    "| | 7 | 8 | 9 | | + | |\n",
    "| |___|___|___| |___| |\n",
    "| | 4 | 5 | 6 | | - | |\n",
    "| |___|___|___| |___| |\n",
    "| | 1 | 2 | 3 | | x | |\n",
    "| |___|___|___| |___| |\n",
    "| | . | 0 | = | | / | |\n",
    "| |___|___|___| |___| |\n",
    "|_____________________|\n",
    "\n",
    "'''"
   ]
  },
  {
   "cell_type": "code",
   "execution_count": 6,
   "id": "f01bbf5e",
   "metadata": {},
   "outputs": [],
   "source": [
    "def calculator():\n",
    "    print(logo_kalkulator)\n",
    "    while True:\n",
    "        operation = input(\"Masukkan simbol operasi yang ingin Anda lakukan (+, -, *, /): \")\n",
    "        num1 = float(input(\"Masukkan angka pertama: \"))\n",
    "        num2 = float(input(\"Masukkan angka kedua: \"))\n",
    "        \n",
    "        result = 0\n",
    "        \n",
    "        if operation == '+':\n",
    "            result = num1 + num2\n",
    "        elif operation == '-':\n",
    "            result = num1 - num2\n",
    "        elif operation == '*':\n",
    "            result = num1 * num2\n",
    "        elif operation == '/':\n",
    "            if num2 != 0:  # Check if dividing by zero\n",
    "                result = num1 / num2\n",
    "            else:\n",
    "                print(\"Tidak bisa membagi dengan nol!\")\n",
    "                continue\n",
    "        else:\n",
    "            print(\"Simbol operasi tidak valid. Gunakan '+', '-', '*', atau '/'.\")\n",
    "            continue\n",
    "        \n",
    "        print(\"Hasil:\", result)\n",
    "        \n",
    "        repeat = input(\"Apakah Anda ingin melanjutkan perhitungan? (y untuk ya): \")\n",
    "        if repeat.lower() != 'y':\n",
    "            print(\"Terima kasih telah menggunakan kalkulator.\")\n",
    "            break\n"
   ]
  },
  {
   "cell_type": "code",
   "execution_count": 7,
   "id": "634933f5",
   "metadata": {},
   "outputs": [
    {
     "name": "stdout",
     "output_type": "stream",
     "text": [
      "\n",
      " _______________________\n",
      "|  _________________  |\n",
      "| |                 | |\n",
      "| |                 | |\n",
      "| |_________________| |\n",
      "|  ___ ___ ___   ___  |\n",
      "| | 7 | 8 | 9 | | + | |\n",
      "| |___|___|___| |___| |\n",
      "| | 4 | 5 | 6 | | - | |\n",
      "| |___|___|___| |___| |\n",
      "| | 1 | 2 | 3 | | x | |\n",
      "| |___|___|___| |___| |\n",
      "| | . | 0 | = | | / | |\n",
      "| |___|___|___| |___| |\n",
      "|_____________________|\n",
      "\n",
      "\n",
      "Masukkan simbol operasi yang ingin Anda lakukan (+, -, *, /): *\n",
      "Masukkan angka pertama: 10\n",
      "Masukkan angka kedua: 10\n",
      "Hasil: 100.0\n",
      "Apakah Anda ingin melanjutkan perhitungan? (y untuk ya): y\n",
      "Masukkan simbol operasi yang ingin Anda lakukan (+, -, *, /): +\n",
      "Masukkan angka pertama: 10\n",
      "Masukkan angka kedua: 20\n",
      "Hasil: 30.0\n",
      "Apakah Anda ingin melanjutkan perhitungan? (y untuk ya): n\n",
      "Terima kasih telah menggunakan kalkulator.\n"
     ]
    }
   ],
   "source": [
    "calculator()"
   ]
  },
  {
   "cell_type": "markdown",
   "id": "6e562f0f",
   "metadata": {},
   "source": [
    "# HARI 11"
   ]
  },
  {
   "cell_type": "code",
   "execution_count": null,
   "id": "9cb35bb6",
   "metadata": {},
   "outputs": [],
   "source": [
    "#BAHAN"
   ]
  },
  {
   "cell_type": "code",
   "execution_count": 8,
   "id": "03e2dc86",
   "metadata": {},
   "outputs": [],
   "source": [
    "#BAHAN ANGKA\n",
    "cards=[11,2,3,4,5,6,7,8,9,10,10,10]"
   ]
  },
  {
   "cell_type": "code",
   "execution_count": 24,
   "id": "d1745132",
   "metadata": {},
   "outputs": [
    {
     "name": "stdout",
     "output_type": "stream",
     "text": [
      "8 3\n"
     ]
    }
   ],
   "source": [
    "#ANGKA ACAK BUAT USER\n",
    "angka_acak_user = int(np.random.choice(cards))\n",
    "angka_acak_bandar = int(np.random.choice(cards))\n",
    "\n",
    "print(angka_acak_user, angka_acak_bandar)"
   ]
  },
  {
   "cell_type": "code",
   "execution_count": null,
   "id": "eb344f0d",
   "metadata": {},
   "outputs": [],
   "source": [
    "if angka_acak_user > angka_acak_bandar:\n",
    "    print(\"USER MENANG\")\n",
    "else angka_acak_user == angka_acak_bandar:\n",
    "    print(\"SERI\")\n",
    "elif:\n",
    "    print(\"Komputer menang\")"
   ]
  },
  {
   "cell_type": "code",
   "execution_count": 35,
   "id": "c3232a36",
   "metadata": {},
   "outputs": [],
   "source": [
    "cards=[11,2,3,4,5,6,7,8,9,10,10,10]\n",
    "\n",
    "gambar= '''\n",
    "---------\n",
    "|10       |\n",
    "|    ♠    |\n",
    "|       10|\n",
    "---------\n",
    "\n",
    "'''\n",
    "\n",
    "def judi_bakarat():   \n",
    "    print(gambar)\n",
    "    '''Selamat datang di Game Black Jack Bandar Kebagusan'''\n",
    "    print(input(\"Masukin Nama lu \").lower())\n",
    "    duit = (str(input(\"Mau Main berapa banyak? \")))\n",
    "    print(f\"Rp{duit}\")\n",
    "    \n",
    "    angka_acak_user = int(np.random.choice(cards))\n",
    "    angka_acak_bandar = int(np.random.choice(cards))\n",
    "    print(f\"Angka lu {angka_acak_user} dan Angka bandar {angka_acak_bandar}\")\n",
    "    \n",
    "    if angka_acak_user > angka_acak_bandar:\n",
    "        print(\"USER MENANG\")\n",
    "    elif angka_acak_user == angka_acak_bandar:\n",
    "        print(\"SERI\")\n",
    "    else:\n",
    "        print(\"Komputer menang\")\n",
    "\n",
    "        \n"
   ]
  },
  {
   "cell_type": "code",
   "execution_count": 36,
   "id": "062437c7",
   "metadata": {},
   "outputs": [
    {
     "name": "stdout",
     "output_type": "stream",
     "text": [
      "\n",
      "---------\n",
      "|10       |\n",
      "|    ♠    |\n",
      "|       10|\n",
      "---------\n",
      "\n",
      "\n",
      "Masukin Nama lu BOBOI\n",
      "boboi\n",
      "Mau Main berapa banyak? 10000\n",
      "Rp10000\n",
      "Angka lu 10 dan Angka bandar 9\n",
      "USER MENANG\n"
     ]
    }
   ],
   "source": [
    "judi_bakarat()"
   ]
  },
  {
   "cell_type": "code",
   "execution_count": null,
   "id": "a9685dbd",
   "metadata": {},
   "outputs": [],
   "source": []
  },
  {
   "cell_type": "code",
   "execution_count": 40,
   "id": "dc0d007d",
   "metadata": {},
   "outputs": [
    {
     "name": "stdout",
     "output_type": "stream",
     "text": [
      "\n",
      "---------\n",
      "|10       |\n",
      "|    ♠    |\n",
      "|       10|\n",
      "---------\n",
      "\n",
      "\n",
      "Masukin Nama lu hi\n",
      "hi\n",
      "Mau Main berapa banyak? 20\n",
      "Rp20\n",
      "Komputer menang\n"
     ]
    },
    {
     "data": {
      "text/plain": [
       "'Angka lu 2 dan Angka bandar 9'"
      ]
     },
     "execution_count": 40,
     "metadata": {},
     "output_type": "execute_result"
    }
   ],
   "source": [
    "judi_bakarat2()"
   ]
  },
  {
   "cell_type": "code",
   "execution_count": 46,
   "id": "63a85378",
   "metadata": {},
   "outputs": [
    {
     "name": "stdout",
     "output_type": "stream",
     "text": [
      "\n",
      "---------\n",
      "|10       |\n",
      "|    ♠    |\n",
      "|       10|\n",
      "---------\n",
      "\n",
      "\n",
      "Masukin Nama lu Bobi\n",
      "bobi\n",
      "Mau Main berapa banyak? 10000\n",
      "Rp10000\n",
      "USER MENANG\n",
      "---------\n",
      "\n",
      "---------\n",
      "|10       |\n",
      "|    ♠    |\n",
      "|       10|\n",
      "---------\n",
      "\n",
      "\n",
      "Masukin Nama lu Bobi\n",
      "bobi\n",
      "Mau Main berapa banyak? 10000\n",
      "Rp10000\n",
      "Komputer menang\n"
     ]
    }
   ],
   "source": [
    "for main_dua_kali in range(1):\n",
    "    judi_bakarat1()\n",
    "    print(\"---------\")\n",
    "    judi_bakarat2()"
   ]
  },
  {
   "cell_type": "code",
   "execution_count": 47,
   "id": "3e2233ed",
   "metadata": {},
   "outputs": [],
   "source": [
    "def judi_bakarat1():   \n",
    "    print(gambar)\n",
    "    '''Selamat datang di Game Black Jack Bandar Kebagusan'''\n",
    "    print(input(\"Masukin Nama lu \").lower())\n",
    "    duit = (str(input(\"Mau Main berapa banyak? \")))\n",
    "    print(f\"Rp{duit}\")\n",
    "    \n",
    "    angka_acak_user = int(np.random.choice(cards))\n",
    "    angka_acak_bandar = int(np.random.choice(cards))\n",
    "    \n",
    "    if angka_acak_user > angka_acak_bandar:\n",
    "        print(\"USER MENANG\")\n",
    "    elif angka_acak_user == angka_acak_bandar:\n",
    "        print(\"SERI\")\n",
    "    else:\n",
    "        print(\"Komputer menang\")\n",
    "\n",
    "    \n",
    "    \n",
    "    return(f\"Angka lu {angka_acak_user} dan Angka bandar {angka_acak_bandar}\")\n",
    "\n",
    "\n",
    "def judi_bakarat2():       \n",
    "    angka_acak_user = int(np.random.choice(cards))\n",
    "    angka_acak_bandar = int(np.random.choice(cards))\n",
    "    \n",
    "    if angka_acak_user > angka_acak_bandar:\n",
    "        print(\"USER MENANG\")\n",
    "    elif angka_acak_user == angka_acak_bandar:\n",
    "        print(\"SERI\")\n",
    "    else:\n",
    "        print(\"Komputer menang\")\n",
    "    \n",
    "    return(f\"Angka lu {angka_acak_user} dan Angka bandar {angka_acak_bandar}\")\n",
    "    \n"
   ]
  },
  {
   "cell_type": "code",
   "execution_count": 51,
   "id": "f3f2b587",
   "metadata": {},
   "outputs": [
    {
     "name": "stdout",
     "output_type": "stream",
     "text": [
      "\n",
      "---------\n",
      "|10       |\n",
      "|    ♠    |\n",
      "|       10|\n",
      "---------\n",
      "\n",
      "\n",
      "Masukin Nama lu uu\n",
      "uu\n",
      "Mau Main berapa banyak? 10\n",
      "Rp10\n",
      "USER MENANG\n",
      "---------\n",
      "GAME KEDUA\n",
      "USER MENANG\n",
      "GAME KETIGA\n",
      "Komputer menang\n"
     ]
    },
    {
     "data": {
      "text/plain": [
       "'Angka lu 5 dan Angka bandar 7'"
      ]
     },
     "execution_count": 51,
     "metadata": {},
     "output_type": "execute_result"
    }
   ],
   "source": [
    "judi_bakarat1()\n",
    "print(\"---------\")\n",
    "print(\"GAME KEDUA\")\n",
    "judi_bakarat2()\n",
    "print(\"GAME KETIGA\")\n",
    "judi_bakarat2()"
   ]
  },
  {
   "cell_type": "markdown",
   "id": "02157799",
   "metadata": {},
   "source": [
    "# HARI KE 12"
   ]
  },
  {
   "cell_type": "raw",
   "id": "ee1dfb61",
   "metadata": {},
   "source": [
    "local scope vs global scope"
   ]
  },
  {
   "cell_type": "raw",
   "id": "8b179fc9",
   "metadata": {},
   "source": [
    "local itu hanya bisa diakses hanya dengan fungsi tertentu biasanya udh didalam :\n",
    "Tapi kalo global itu di luar\n",
    "\n",
    "yang luar bisa diakses ama yg dalem\n",
    "tapi yang dalem gak bisa diakses ama yg lua"
   ]
  },
  {
   "cell_type": "code",
   "execution_count": 15,
   "id": "55c75f91",
   "metadata": {},
   "outputs": [
    {
     "name": "stdout",
     "output_type": "stream",
     "text": [
      "a\n"
     ]
    }
   ],
   "source": [
    "kelas = [\"1,2,3,4\"]\n",
    "abjad = \"a\"\n",
    "\n",
    "def kelas():\n",
    "#     print(kelas)\n",
    "#     print(abjad)\n",
    "        abjad = [\"a\",\"b\"]\n",
    "    \n",
    "print(abjad)\n",
    "\n"
   ]
  },
  {
   "cell_type": "code",
   "execution_count": 30,
   "id": "e5a7f180",
   "metadata": {},
   "outputs": [
    {
     "name": "stdout",
     "output_type": "stream",
     "text": [
      "['a', 'b', 'c']\n",
      "[1, 2, 3, 4, 5, 6]\n"
     ]
    }
   ],
   "source": [
    "def abjad():\n",
    "    abjad=[\"a\",\"b\",\"c\"]\n",
    "    print(abjad)\n",
    "    def kelas():\n",
    "        kelas=[1,2,3,4,5,6]\n",
    "        print(kelas)\n",
    "        \n",
    "    kelas()\n",
    "abjad()\n",
    "    "
   ]
  },
  {
   "cell_type": "code",
   "execution_count": 32,
   "id": "a6092f09",
   "metadata": {},
   "outputs": [
    {
     "ename": "UnboundLocalError",
     "evalue": "cannot access local variable 'musuh' where it is not associated with a value",
     "output_type": "error",
     "traceback": [
      "\u001b[1;31m---------------------------------------------------------------------------\u001b[0m",
      "\u001b[1;31mUnboundLocalError\u001b[0m                         Traceback (most recent call last)",
      "Cell \u001b[1;32mIn[32], line 9\u001b[0m\n\u001b[0;32m      6\u001b[0m     musuh \u001b[38;5;241m+\u001b[39m\u001b[38;5;241m=\u001b[39m \u001b[38;5;241m1\u001b[39m\n\u001b[0;32m      7\u001b[0m     \u001b[38;5;28mprint\u001b[39m(musuh)\n\u001b[1;32m----> 9\u001b[0m level1()\n",
      "Cell \u001b[1;32mIn[32], line 6\u001b[0m, in \u001b[0;36mlevel1\u001b[1;34m()\u001b[0m\n\u001b[0;32m      5\u001b[0m \u001b[38;5;28;01mdef\u001b[39;00m \u001b[38;5;21mlevel1\u001b[39m ():\n\u001b[1;32m----> 6\u001b[0m     musuh \u001b[38;5;241m+\u001b[39m\u001b[38;5;241m=\u001b[39m \u001b[38;5;241m1\u001b[39m\n\u001b[0;32m      7\u001b[0m     \u001b[38;5;28mprint\u001b[39m(musuh)\n",
      "\u001b[1;31mUnboundLocalError\u001b[0m: cannot access local variable 'musuh' where it is not associated with a value"
     ]
    }
   ],
   "source": [
    "#Menggunakan global\n",
    "\n",
    "musuh = 0\n",
    "\n",
    "def level1 ():\n",
    "    musuh += 1\n",
    "    print(musuh)\n",
    "    \n",
    "level1()"
   ]
  },
  {
   "cell_type": "code",
   "execution_count": 39,
   "id": "1defdc6a",
   "metadata": {},
   "outputs": [
    {
     "name": "stdout",
     "output_type": "stream",
     "text": [
      "jadi musuhnya ada 1\n"
     ]
    }
   ],
   "source": [
    "musuh = 0\n",
    "\n",
    "def level2 ():\n",
    "    global musuh\n",
    "    musuh += 1\n",
    "    return musuh\n",
    "\n",
    "\n",
    "level2 = str(level2())\n",
    "print(f\"jadi musuhnya ada {level2}\")"
   ]
  },
  {
   "cell_type": "code",
   "execution_count": 40,
   "id": "794fa4cb",
   "metadata": {},
   "outputs": [
    {
     "name": "stdout",
     "output_type": "stream",
     "text": [
      "1\n",
      "jadi musuhnya ada None\n"
     ]
    }
   ],
   "source": [
    "musuh = 0\n",
    "\n",
    "def level2 ():\n",
    "    global musuh\n",
    "    musuh += 1\n",
    "    print(musuh)\n",
    "\n",
    "\n",
    "level2 = str(level2())\n",
    "print(f\"jadi musuhnya ada {level2}\")"
   ]
  },
  {
   "cell_type": "code",
   "execution_count": 51,
   "id": "bc206806",
   "metadata": {},
   "outputs": [
    {
     "name": "stdout",
     "output_type": "stream",
     "text": [
      "Masukkan level: easy, medium, hard\n",
      "easy\n",
      "1\n"
     ]
    }
   ],
   "source": [
    "def get_difficulty():\n",
    "    level = input(\"Masukkan level: easy, medium, hard\\n\").lower()\n",
    "\n",
    "    def set_difficulty():\n",
    "        nonlocal level\n",
    "        if level == \"easy\":\n",
    "            return 1\n",
    "        elif level == \"medium\":\n",
    "            return 2\n",
    "        elif level == \"hard\":\n",
    "            return 3\n",
    "        else:\n",
    "            print(\"Kamu salah input level\")\n",
    "            return None\n",
    "\n",
    "    difficulty = set_difficulty()\n",
    "    return difficulty\n",
    "\n",
    "difficulty = get_difficulty()\n",
    "print(difficulty)\n"
   ]
  },
  {
   "cell_type": "code",
   "execution_count": 63,
   "id": "b9f514cd",
   "metadata": {},
   "outputs": [],
   "source": [
    "menu = \"\"\n",
    "\n",
    "def permainan():\n",
    "    global menu\n",
    "    menu = input(\"Masukan pilihan? pengaturan atau mulai\\n\").lower()\n",
    "    print(menu)\n",
    "    \n",
    "    def pengaturan():\n",
    "        global menu\n",
    "        print(\"selamat telah masuk pengaturan\")\n",
    "        \n",
    "    def mulai():\n",
    "        global menu\n",
    "        print(\"Akan memulai permainan\")\n",
    "        "
   ]
  },
  {
   "cell_type": "code",
   "execution_count": 64,
   "id": "f0af3dba",
   "metadata": {},
   "outputs": [
    {
     "name": "stdout",
     "output_type": "stream",
     "text": [
      "Masukan pilihan? pengaturan atau mulai\n",
      "mulai\n",
      "mulai\n"
     ]
    }
   ],
   "source": [
    "permainan()"
   ]
  },
  {
   "cell_type": "code",
   "execution_count": 65,
   "id": "08e0939c",
   "metadata": {},
   "outputs": [],
   "source": [
    "def permainan():\n",
    "    menu = input(\"Masukkan pilihan? pengaturan atau mulai\\n\").lower()\n",
    "    print(menu)\n",
    "    \n",
    "    def pengaturan(): \n",
    "        print(\"Selamat telah masuk pengaturan\")\n",
    "        print(f\"Menu saat ini: {menu}\") \n",
    "    \n",
    "    def mulai():\n",
    "        print(\"Akan memulai permainan\")\n",
    "        print(f\"Menu saat ini: {menu}\")  "
   ]
  },
  {
   "cell_type": "code",
   "execution_count": 66,
   "id": "f3742528",
   "metadata": {},
   "outputs": [
    {
     "name": "stdout",
     "output_type": "stream",
     "text": [
      "Masukkan pilihan? pengaturan atau mulai\n",
      "mulai\n",
      "mulai\n"
     ]
    }
   ],
   "source": [
    "permainan()"
   ]
  },
  {
   "cell_type": "markdown",
   "id": "8fa90bde",
   "metadata": {},
   "source": [
    "# HARI 13"
   ]
  },
  {
   "cell_type": "markdown",
   "id": "bb97e33c",
   "metadata": {},
   "source": [
    "DEBUGGING"
   ]
  },
  {
   "cell_type": "code",
   "execution_count": 5,
   "id": "ce6d810d",
   "metadata": {},
   "outputs": [
    {
     "name": "stdout",
     "output_type": "stream",
     "text": [
      "masukan angka10\n",
      "10\n"
     ]
    }
   ],
   "source": [
    "pages  = 0\n",
    "selanjutnya = int(input(\"masukan angka\"))\n",
    "pages+= selanjutnya\n",
    "print(pages)"
   ]
  },
  {
   "cell_type": "markdown",
   "id": "bde23b30",
   "metadata": {},
   "source": [
    "SOAL"
   ]
  },
  {
   "cell_type": "code",
   "execution_count": null,
   "id": "1bd65c26",
   "metadata": {},
   "outputs": [],
   "source": []
  },
  {
   "cell_type": "code",
   "execution_count": null,
   "id": "b31e2bd7",
   "metadata": {},
   "outputs": [],
   "source": []
  }
 ],
 "metadata": {
  "kernelspec": {
   "display_name": "Python 3 (ipykernel)",
   "language": "python",
   "name": "python3"
  },
  "language_info": {
   "codemirror_mode": {
    "name": "ipython",
    "version": 3
   },
   "file_extension": ".py",
   "mimetype": "text/x-python",
   "name": "python",
   "nbconvert_exporter": "python",
   "pygments_lexer": "ipython3",
   "version": "3.11.4"
  }
 },
 "nbformat": 4,
 "nbformat_minor": 5
}
